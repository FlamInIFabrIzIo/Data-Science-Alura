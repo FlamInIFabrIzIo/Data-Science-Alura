{
  "nbformat": 4,
  "nbformat_minor": 0,
  "metadata": {
    "colab": {
      "provenance": [],
      "include_colab_link": true
    },
    "kernelspec": {
      "name": "python3",
      "display_name": "Python 3"
    },
    "language_info": {
      "name": "python"
    }
  },
  "cells": [
    {
      "cell_type": "markdown",
      "metadata": {
        "id": "view-in-github",
        "colab_type": "text"
      },
      "source": [
        "<a href=\"https://colab.research.google.com/github/FlamInIFabrIzIo/Data-Science-Alura/blob/main/Python_Data_Science.ipynb\" target=\"_parent\"><img src=\"https://colab.research.google.com/assets/colab-badge.svg\" alt=\"Open In Colab\"/></a>"
      ]
    },
    {
      "cell_type": "markdown",
      "source": [
        "# Python para Data Science\n",
        "\n",
        "Notebook para el curso de Python para Data Science publicado en la plataforma de [Alura Latam](https://www.aluracursos.com/)"
      ],
      "metadata": {
        "id": "lQx6Mmv0OJyT"
      }
    },
    {
      "cell_type": "markdown",
      "source": [
        "# Introducción a Python\n",
        "¡Vamos a conocer Python, nuestro ambiente de estudio, y también generaremos nuestro primer código en este lenguaje!"
      ],
      "metadata": {
        "id": "7SiB6JIpYKmY"
      }
    },
    {
      "cell_type": "markdown",
      "source": [
        "## Google Colaboratory\n",
        "\n",
        "Ya aprendimos qué es [Python](https://www.python.org/) y ahora aprenderemos a usar nuestra herramienta de ejecución [Google Colaboratory](https://colab.research.google.com/) para programar en un notebook interactivo.\n",
        "\n",
        "Vamos a probar algunas funciones de este ambiente."
      ],
      "metadata": {
        "id": "Yugfb3fCOYY9"
      }
    },
    {
      "cell_type": "markdown",
      "source": [
        " **`>>> Usa esta celda para mover <<<`**"
      ],
      "metadata": {
        "id": "2iUHQsJasJAk"
      }
    },
    {
      "cell_type": "code",
      "source": [],
      "metadata": {
        "id": "o7jrX_iKhdkU"
      },
      "execution_count": null,
      "outputs": []
    },
    {
      "cell_type": "markdown",
      "source": [
        "## ¡Hola mundo!\n",
        "\n",
        "Vamos a conocer un poco más de cerca nuestro notebook. Para ello ejecutaremos nuestro primer comando en Python: [`print()`](https://docs.python.org/3/library/functions.html#print)"
      ],
      "metadata": {
        "id": "aLSFP2V7XTfe"
      }
    },
    {
      "cell_type": "code",
      "source": [
        "print(\"hola mundo\")"
      ],
      "metadata": {
        "id": "0qZX8_ZQBYyk",
        "colab": {
          "base_uri": "https://localhost:8080/"
        },
        "outputId": "643f98c0-45ea-4676-b321-0eaa0520e262"
      },
      "execution_count": null,
      "outputs": [
        {
          "output_type": "stream",
          "name": "stdout",
          "text": [
            "hola mundo\n"
          ]
        }
      ]
    },
    {
      "cell_type": "code",
      "source": [
        "print(\"Dale boooca\")"
      ],
      "metadata": {
        "id": "GLMzF_AKBY7a",
        "colab": {
          "base_uri": "https://localhost:8080/"
        },
        "outputId": "509aa8a0-6c70-444a-976c-22ed0fd34721"
      },
      "execution_count": null,
      "outputs": [
        {
          "output_type": "stream",
          "name": "stdout",
          "text": [
            "Dale boooca\n"
          ]
        }
      ]
    },
    {
      "cell_type": "markdown",
      "source": [
        "1 - Imprime la frase \"Escuela de Datos de Alura\"."
      ],
      "metadata": {
        "id": "RxHrzLUIfMLb"
      }
    },
    {
      "cell_type": "code",
      "source": [
        "print(\"Escuela de Datos de Alura\")"
      ],
      "metadata": {
        "id": "Djsy7IPAfQcH",
        "outputId": "eeeacdd8-2dbb-4628-d945-11b7c8beab79",
        "colab": {
          "base_uri": "https://localhost:8080/"
        }
      },
      "execution_count": null,
      "outputs": [
        {
          "output_type": "stream",
          "name": "stdout",
          "text": [
            "Escuela de Datos de Alura\n"
          ]
        }
      ]
    },
    {
      "cell_type": "markdown",
      "source": [
        "2 - Imprime tu nombre y tu apellido"
      ],
      "metadata": {
        "id": "5pQAyATAfWsI"
      }
    },
    {
      "cell_type": "code",
      "source": [
        "nombre = \"fabri\"\n",
        "apellido = \"flami\"\n",
        "print(f\"Hola, mi nombre es {nombre} y me apellido es {apellido}\")\n"
      ],
      "metadata": {
        "id": "e_TbUnBFfg9U",
        "outputId": "504703da-fbaf-49e5-8e23-1b3fef51e1a8",
        "colab": {
          "base_uri": "https://localhost:8080/"
        }
      },
      "execution_count": null,
      "outputs": [
        {
          "output_type": "stream",
          "name": "stdout",
          "text": [
            "Hola, mi nombre es fabri y me apellido es flami\n"
          ]
        }
      ]
    },
    {
      "cell_type": "markdown",
      "source": [
        "3 - Imprime tu primer nombre letra por letra."
      ],
      "metadata": {
        "id": "cxWB5V2Yf5md"
      }
    },
    {
      "cell_type": "code",
      "source": [
        "nombre = \"fabri\"\n",
        "\n",
        "for i in nombre:\n",
        "  print(nombre)"
      ],
      "metadata": {
        "id": "2FnluY1-gEHl",
        "outputId": "8f8c908b-b3df-43d9-b7f7-0321d86b9ae1",
        "colab": {
          "base_uri": "https://localhost:8080/"
        }
      },
      "execution_count": null,
      "outputs": [
        {
          "output_type": "stream",
          "name": "stdout",
          "text": [
            "fabri\n",
            "fabri\n",
            "fabri\n",
            "fabri\n",
            "fabri\n"
          ]
        }
      ]
    },
    {
      "cell_type": "markdown",
      "source": [
        "4 - Imprime tu fecha de nacimiento en formato día mes año. Recuerda que los valores de día y año no deben estar entre comillas"
      ],
      "metadata": {
        "id": "3BE83IUfg32B"
      }
    },
    {
      "cell_type": "code",
      "source": [
        "fecha_nacimiento = 20, \"febrero\", 2029\n",
        "print(fecha_nacimiento)"
      ],
      "metadata": {
        "id": "pYYL_8aVg5Q_",
        "outputId": "ca552acd-3a1f-49de-e696-9ecd6b7d8256",
        "colab": {
          "base_uri": "https://localhost:8080/"
        }
      },
      "execution_count": null,
      "outputs": [
        {
          "output_type": "stream",
          "name": "stdout",
          "text": [
            "(20, 'febrero', 2029)\n"
          ]
        }
      ]
    },
    {
      "cell_type": "markdown",
      "source": [
        "5 - Imprime, en una sola instrucción print, el año actual en el que estás realizando este curso."
      ],
      "metadata": {
        "id": "Cf1q1EAyrFSZ"
      }
    },
    {
      "cell_type": "code",
      "source": [
        "año = 2025\n",
        "print(f\"Año actual: {año}\")"
      ],
      "metadata": {
        "id": "Ykf-5MykrTw5",
        "outputId": "9d833a70-0ee9-4c05-9ea8-76accaf4deca",
        "colab": {
          "base_uri": "https://localhost:8080/"
        }
      },
      "execution_count": null,
      "outputs": [
        {
          "output_type": "stream",
          "name": "stdout",
          "text": [
            "Año actual: 2025\n"
          ]
        }
      ]
    },
    {
      "cell_type": "markdown",
      "source": [
        "# Manipulando los datos\n",
        "\n",
        "Vamos a aprender sobre las variables en Python, cómo declararlas y utilizarlas además de conocer otros comandos de este lenguaje. :D"
      ],
      "metadata": {
        "id": "iP8uWQmFYFRs"
      }
    },
    {
      "cell_type": "markdown",
      "source": [
        "## Variables\n",
        "\n",
        "En Data Science trabajamos con varios tipos de datos e informaciones, entonces es esencial saber cómo trabajar con las variables."
      ],
      "metadata": {
        "id": "sLNVmnTbag1Z"
      }
    },
    {
      "cell_type": "markdown",
      "source": [
        "Las variables en Python se crean cuando atribuimos un valor a ella.\n",
        "\n",
        "Para esto, colocamos el nombre de la variable, el signo de igual (`=`) y el valor que queremos atribuirle."
      ],
      "metadata": {
        "id": "lsCY0wahAbf6"
      }
    },
    {
      "cell_type": "code",
      "source": [
        "edad = 5"
      ],
      "metadata": {
        "id": "vsHh5buZADND"
      },
      "execution_count": null,
      "outputs": []
    },
    {
      "cell_type": "code",
      "source": [
        "type(edad)"
      ],
      "metadata": {
        "id": "8UPwq3nmxeke",
        "outputId": "757ca4ec-d7f1-4519-eed1-73a1e09959f8",
        "colab": {
          "base_uri": "https://localhost:8080/"
        }
      },
      "execution_count": null,
      "outputs": [
        {
          "output_type": "execute_result",
          "data": {
            "text/plain": [
              "int"
            ]
          },
          "metadata": {},
          "execution_count": 17
        }
      ]
    },
    {
      "cell_type": "code",
      "source": [
        "promedio = 9.5\n",
        "type(promedio)"
      ],
      "metadata": {
        "id": "sivPtqSjADQV",
        "colab": {
          "base_uri": "https://localhost:8080/"
        },
        "outputId": "d1595723-14c8-4dd9-e126-d21aa64289ad"
      },
      "execution_count": null,
      "outputs": [
        {
          "output_type": "execute_result",
          "data": {
            "text/plain": [
              "float"
            ]
          },
          "metadata": {},
          "execution_count": 18
        }
      ]
    },
    {
      "cell_type": "code",
      "source": [
        "nombre = \"flami\"\n",
        "type(nombre)"
      ],
      "metadata": {
        "id": "JC8jO47wADlm",
        "colab": {
          "base_uri": "https://localhost:8080/"
        },
        "outputId": "7f705f25-f8cd-4c12-c628-cb4925d200cd"
      },
      "execution_count": null,
      "outputs": [
        {
          "output_type": "execute_result",
          "data": {
            "text/plain": [
              "str"
            ]
          },
          "metadata": {},
          "execution_count": 19
        }
      ]
    },
    {
      "cell_type": "code",
      "source": [
        "v = True\n",
        "type(v)"
      ],
      "metadata": {
        "id": "Jan75JeSxxOf",
        "outputId": "95047cf1-9f54-4f07-8027-9121c30dd135",
        "colab": {
          "base_uri": "https://localhost:8080/"
        }
      },
      "execution_count": null,
      "outputs": [
        {
          "output_type": "execute_result",
          "data": {
            "text/plain": [
              "bool"
            ]
          },
          "metadata": {},
          "execution_count": 20
        }
      ]
    },
    {
      "cell_type": "markdown",
      "source": [
        "Existen algunos tipos de nomes que **no** podemos definir para las variables:\n",
        "\n",
        "- **Nombres que comiencen con números**\n",
        "  - Ejemplos: `10_notas`, `2_nombre_casa`, etc.\n",
        "- **Palabras separadas por espacio**\n",
        "  - Ejemplos: `Nombre escuela`, `notas estudiantes`, etc.\n",
        "- **Nombres de funciones de Python**\n",
        "  - Ejemplos: `print`, `type`, etc."
      ],
      "metadata": {
        "id": "om2N0jHKAzwL"
      }
    },
    {
      "cell_type": "markdown",
      "source": [
        "> Las letras mayúsculas y minúsculas generarán diferentes variables. La variable `edad` es diferente de `Edad` que a su vez es diferente de `EDAD`:\n",
        "``` Python\n",
        "edad = 1\n",
        "Edad = 2\n",
        "EDAD = 3\n",
        "_edad = 4\n",
        "_edad_ = 5\n",
        "print(edad, Edad, EDAD, _edad, _edad_)\n",
        "1 2 3 4 5\n",
        "```"
      ],
      "metadata": {
        "id": "A19vY2GVMujB"
      }
    },
    {
      "cell_type": "markdown",
      "source": [
        "## Tipos de variables\n",
        "\n",
        "Cada variable contiene una clase específica con respecto al tipo de objeto al cual esta hace referencia. Estas clases serán diferentes de acuerdo con el tipo de dato que le sea atribuido a una variable.\n",
        "\n",
        "Para conocer la clase de cada elemento usamos la función [`type()`](https://docs.python.org/3/library/functions.html#type)"
      ],
      "metadata": {
        "id": "UqhzuBhBHsps"
      }
    },
    {
      "cell_type": "code",
      "source": [],
      "metadata": {
        "id": "J5a9t73A_-PX"
      },
      "execution_count": null,
      "outputs": []
    },
    {
      "cell_type": "code",
      "source": [],
      "metadata": {
        "id": "rqmO1ew-_-So"
      },
      "execution_count": null,
      "outputs": []
    },
    {
      "cell_type": "code",
      "source": [],
      "metadata": {
        "id": "xkrPMkeY_-cP"
      },
      "execution_count": null,
      "outputs": []
    },
    {
      "cell_type": "markdown",
      "source": [
        "En un conjunto de datos escolares podemos tener varios tipos de informaciones. Supongamos que tenemos acceso a la ficha de datos del alumno *Penélope Camacho*, cómo transformamos este nombre en variables de Python?\n",
        "\n",
        "#### Ficha:\n",
        "\n",
        "- Nombre: Penélope Camacho\n",
        "- Edad: 11 años\n",
        "- Promedio del semestre: 9,75\n",
        "- Situación de aprobación: Verdadera (aprobado)"
      ],
      "metadata": {
        "id": "O-FxDumfWu0C"
      }
    },
    {
      "cell_type": "code",
      "source": [
        "nombre_estudiante = \"Penelope Camacho\"\n",
        "edad = 11\n",
        "promedio_semestre = 9.75\n",
        "aprobdo = True"
      ],
      "metadata": {
        "id": "FabQ7jQf_8Xt"
      },
      "execution_count": null,
      "outputs": []
    },
    {
      "cell_type": "code",
      "source": [
        "print(nombre_estudiante, edad, promedio_semestre, aprobdo)"
      ],
      "metadata": {
        "id": "IZLQnZUj_8bd",
        "colab": {
          "base_uri": "https://localhost:8080/"
        },
        "outputId": "079921ff-0e04-4c9d-e3e9-5b71dee2c4ab"
      },
      "execution_count": null,
      "outputs": [
        {
          "output_type": "stream",
          "name": "stdout",
          "text": [
            "Penelope Camacho 11 9.75 True\n"
          ]
        }
      ]
    },
    {
      "cell_type": "code",
      "source": [
        "print(type(nombre_estudiante), type(edad), type(promedio_semestre), type(aprobdo))"
      ],
      "metadata": {
        "id": "GHcDkRgrzCBG",
        "outputId": "2d0ee3d8-69cb-452a-abd3-179bdfab6b7b",
        "colab": {
          "base_uri": "https://localhost:8080/"
        }
      },
      "execution_count": null,
      "outputs": [
        {
          "output_type": "stream",
          "name": "stdout",
          "text": [
            "<class 'str'> <class 'int'> <class 'float'> <class 'bool'>\n"
          ]
        }
      ]
    },
    {
      "cell_type": "markdown",
      "source": [
        "## Variables numéricas\n",
        "\n",
        "Entre los tipos de datos numéricos vamos a enfocarnos en los tipos `entero` y `float`."
      ],
      "metadata": {
        "id": "KFq_8Sxf-OG0"
      }
    },
    {
      "cell_type": "markdown",
      "source": [
        "Tenemos una tabla de información sobre los diversos cargos, cantidad de personas empleadas y el salario correspondiente:\n",
        "\n",
        "|Cargo | Cantidad | Salario|\n",
        "|---|---|---|\n",
        "|Vigilante | 5 | 300 |\n",
        "|Docente | 16| 500|\n",
        "|Coordinador| 2 |600|\n",
        "\n",
        "Necesitamos trabajar con estos datos para obtener:\n",
        "\n",
        "- La cantidad total de empleados;\n",
        "- La diferencia entre el salario más bajo y más alto; y\n",
        "- El promedio ponderado de los salarios de los empleados de la escuela."
      ],
      "metadata": {
        "id": "8_HYUbkVYdQY"
      }
    },
    {
      "cell_type": "code",
      "source": [
        "c_vigilante = 5\n",
        "s_vigilante = 300\n",
        "\n",
        "c_docente = 16\n",
        "s_docente = 500\n",
        "\n",
        "c_coordinador = 2\n",
        "s_coordinador = 600"
      ],
      "metadata": {
        "id": "F_X-wxdm_5Ys",
        "colab": {
          "base_uri": "https://localhost:8080/"
        },
        "outputId": "9aaecb70-a96f-4f0c-ee4d-ebe231ad14ad"
      },
      "execution_count": null,
      "outputs": [
        {
          "output_type": "execute_result",
          "data": {
            "text/plain": [
              "300"
            ]
          },
          "metadata": {},
          "execution_count": 29
        }
      ]
    },
    {
      "cell_type": "code",
      "source": [
        "total_empleados = c_vigilante + c_docente + c_coordinador\n",
        "total_empleados\n"
      ],
      "metadata": {
        "id": "gKmBbhII_5b9",
        "colab": {
          "base_uri": "https://localhost:8080/"
        },
        "outputId": "059c1251-bf4e-4ab1-b995-2e68c6980117"
      },
      "execution_count": null,
      "outputs": [
        {
          "output_type": "execute_result",
          "data": {
            "text/plain": [
              "23"
            ]
          },
          "metadata": {},
          "execution_count": 30
        }
      ]
    },
    {
      "cell_type": "code",
      "source": [
        "diferencia_salario  = s_coordinador - s_vigilante\n",
        "diferencia_salario"
      ],
      "metadata": {
        "id": "fIugsxNy_53j",
        "colab": {
          "base_uri": "https://localhost:8080/"
        },
        "outputId": "b4876cfd-ae81-487b-c250-c37a5fe8aad6"
      },
      "execution_count": null,
      "outputs": [
        {
          "output_type": "execute_result",
          "data": {
            "text/plain": [
              "300"
            ]
          },
          "metadata": {},
          "execution_count": 31
        }
      ]
    },
    {
      "cell_type": "code",
      "source": [
        "promedio_salario = (c_vigilante * s_vigilante +\n",
        "                    c_docente * s_docente +\n",
        "                    c_coordinador * s_coordinador) / total_empleados\n",
        "\n",
        "promedio_salario"
      ],
      "metadata": {
        "id": "w3l7Ewka0naC",
        "outputId": "cfb6b608-8fcd-4322-c082-83130a63d964",
        "colab": {
          "base_uri": "https://localhost:8080/"
        }
      },
      "execution_count": null,
      "outputs": [
        {
          "output_type": "execute_result",
          "data": {
            "text/plain": [
              "465.2173913043478"
            ]
          },
          "metadata": {},
          "execution_count": 33
        }
      ]
    },
    {
      "cell_type": "code",
      "source": [
        "type(promedio_salario)"
      ],
      "metadata": {
        "id": "_W12U93Z1Zpl",
        "outputId": "1548357e-930c-406f-ca75-f696d496e74f",
        "colab": {
          "base_uri": "https://localhost:8080/"
        }
      },
      "execution_count": null,
      "outputs": [
        {
          "output_type": "execute_result",
          "data": {
            "text/plain": [
              "float"
            ]
          },
          "metadata": {},
          "execution_count": 34
        }
      ]
    },
    {
      "cell_type": "markdown",
      "source": [
        "## Strings"
      ],
      "metadata": {
        "id": "yQy7b0ZWoD-P"
      }
    },
    {
      "cell_type": "markdown",
      "source": [
        "Strings hace referencia a un conjunto de caracteres formando un texto.\n",
        "\n",
        "Podemos crear Strings cuando atribuimos un dato a una variable entre comillas sencillas (`'`) o comillas dobles (`\"`)."
      ],
      "metadata": {
        "id": "vlo2-DXusv3s"
      }
    },
    {
      "cell_type": "code",
      "source": [
        "t = \"Alura\"\n",
        "type(t)"
      ],
      "metadata": {
        "id": "ityEWqvh_2wK",
        "colab": {
          "base_uri": "https://localhost:8080/"
        },
        "outputId": "2df1e604-f9fa-4f3a-833c-a775bc2c5bf5"
      },
      "execution_count": null,
      "outputs": [
        {
          "output_type": "execute_result",
          "data": {
            "text/plain": [
              "str"
            ]
          },
          "metadata": {},
          "execution_count": 35
        }
      ]
    },
    {
      "cell_type": "markdown",
      "source": [
        "Las variables textuales son objetos que poseen métodos que nos ayudan a formatear strings. Los métodos los podemos ejecutar al definir un objeto de acuerdo con la siguiente estructura:\n",
        "\n",
        "```\n",
        "objeto.metodo()\n",
        "```\n",
        "\n",
        "Existen métodos que no necesitan los `()`, siempre es una buena práctica verificar la documentación para cada caso."
      ],
      "metadata": {
        "id": "2e9UD_CCxqz_"
      }
    },
    {
      "cell_type": "markdown",
      "source": [
        "---\n",
        "**Situación:**\n",
        "\n",
        "Recibimos una variable con el nombre de una profesora de la escuela para añadirla a los registros. Sin embargo, necesitamos darle un tratamiento a este texto antes de insertarlo al sistema."
      ],
      "metadata": {
        "id": "p6aPmMGP4tf9"
      }
    },
    {
      "cell_type": "code",
      "source": [
        "texto = '  Micaela de los Sanyos '\n",
        "id(texto)"
      ],
      "metadata": {
        "id": "icDWtYTjBO0n",
        "colab": {
          "base_uri": "https://localhost:8080/"
        },
        "outputId": "ca4f65c0-8ed8-4419-ca49-2a18e5934829"
      },
      "execution_count": null,
      "outputs": [
        {
          "output_type": "execute_result",
          "data": {
            "text/plain": [
              "134741249318768"
            ]
          },
          "metadata": {},
          "execution_count": 36
        }
      ]
    },
    {
      "cell_type": "markdown",
      "source": [
        "El objetivo final es que el nombre aparezca de la siguiente forma:\n",
        "\n",
        "```\n",
        "'MICAELA DE LOS SANTOS'\n",
        "```"
      ],
      "metadata": {
        "id": "Dg2ZXSZOGzjC"
      }
    },
    {
      "cell_type": "markdown",
      "source": [
        "### [`str.upper()` ](https://docs.python.org/3/library/stdtypes.html#str.upper)\n",
        "Convierte una string a mayúsculas."
      ],
      "metadata": {
        "id": "iVTAD8q702eN"
      }
    },
    {
      "cell_type": "code",
      "source": [
        "texto.upper()"
      ],
      "metadata": {
        "id": "wMVshJrY_ZXh",
        "colab": {
          "base_uri": "https://localhost:8080/",
          "height": 35
        },
        "outputId": "8e6498f3-9a8a-4f25-d6cd-46f7c450de6c"
      },
      "execution_count": null,
      "outputs": [
        {
          "output_type": "execute_result",
          "data": {
            "text/plain": [
              "'  MICAELA DE LOS SANYOS '"
            ],
            "application/vnd.google.colaboratory.intrinsic+json": {
              "type": "string"
            }
          },
          "metadata": {},
          "execution_count": 37
        }
      ]
    },
    {
      "cell_type": "markdown",
      "source": [
        "### [`str.lower()`](https://docs.python.org/3/library/stdtypes.html#str.lower)\n",
        "Convierte una string a minúsculas."
      ],
      "metadata": {
        "id": "hbDSBtMV1TpG"
      }
    },
    {
      "cell_type": "code",
      "source": [
        "texto.lower()"
      ],
      "metadata": {
        "id": "px3yEeNH_YK4",
        "colab": {
          "base_uri": "https://localhost:8080/",
          "height": 35
        },
        "outputId": "e3038726-82d7-4013-b716-3294d224338f"
      },
      "execution_count": null,
      "outputs": [
        {
          "output_type": "execute_result",
          "data": {
            "text/plain": [
              "'  micaela de los sanyos '"
            ],
            "application/vnd.google.colaboratory.intrinsic+json": {
              "type": "string"
            }
          },
          "metadata": {},
          "execution_count": 38
        }
      ]
    },
    {
      "cell_type": "markdown",
      "source": [
        "### [`str.strip()`](https://docs.python.org/3/library/stdtypes.html#str.strip)\n",
        "Elimina los espacios en blanco al inicio y al final de una string."
      ],
      "metadata": {
        "id": "kz47eWM11gii"
      }
    },
    {
      "cell_type": "code",
      "source": [
        "texto.strip()"
      ],
      "metadata": {
        "id": "76dLgNa4_XAe",
        "colab": {
          "base_uri": "https://localhost:8080/",
          "height": 35
        },
        "outputId": "c89e00a7-1ae0-44f1-9893-765a2d4ce199"
      },
      "execution_count": null,
      "outputs": [
        {
          "output_type": "execute_result",
          "data": {
            "text/plain": [
              "'Micaela de los Sanyos'"
            ],
            "application/vnd.google.colaboratory.intrinsic+json": {
              "type": "string"
            }
          },
          "metadata": {},
          "execution_count": 39
        }
      ]
    },
    {
      "cell_type": "markdown",
      "source": [
        "### [`str.replace(antiguo, nuevo)`](https://docs.python.org/3/library/stdtypes.html#str.replace)\n",
        "\n",
        "Sustituye todas las ocurrencias del texto \"antiguo\" en la string por el  \"nuevo\"."
      ],
      "metadata": {
        "id": "m6notiyS1SCV"
      }
    },
    {
      "cell_type": "code",
      "source": [
        "texto.replace('y', 't')"
      ],
      "metadata": {
        "id": "PNXAixtE_V6R",
        "colab": {
          "base_uri": "https://localhost:8080/",
          "height": 35
        },
        "outputId": "4c623fb5-9822-4422-9228-a0381628a9a4"
      },
      "execution_count": null,
      "outputs": [
        {
          "output_type": "execute_result",
          "data": {
            "text/plain": [
              "'  Micaela de los Santos '"
            ],
            "application/vnd.google.colaboratory.intrinsic+json": {
              "type": "string"
            }
          },
          "metadata": {},
          "execution_count": 40
        }
      ]
    },
    {
      "cell_type": "code",
      "source": [
        "texto"
      ],
      "metadata": {
        "id": "IM9f5Bpg6xZv",
        "outputId": "e0834d5a-6b95-4866-d299-66d854d2e6e5",
        "colab": {
          "base_uri": "https://localhost:8080/",
          "height": 35
        }
      },
      "execution_count": null,
      "outputs": [
        {
          "output_type": "execute_result",
          "data": {
            "text/plain": [
              "'  Micaela de los Sanyos '"
            ],
            "application/vnd.google.colaboratory.intrinsic+json": {
              "type": "string"
            }
          },
          "metadata": {},
          "execution_count": 41
        }
      ]
    },
    {
      "cell_type": "code",
      "source": [
        "id(texto)"
      ],
      "metadata": {
        "id": "KMIec9UY6zKK",
        "outputId": "6500b414-90a3-43ae-ac9a-68098f947c79",
        "colab": {
          "base_uri": "https://localhost:8080/"
        }
      },
      "execution_count": null,
      "outputs": [
        {
          "output_type": "execute_result",
          "data": {
            "text/plain": [
              "134741249318768"
            ]
          },
          "metadata": {},
          "execution_count": 42
        }
      ]
    },
    {
      "cell_type": "code",
      "source": [
        "nuevo_texto = texto.strip().replace('y', 't').upper()\n",
        "print(nuevo_texto)\n",
        "print(id(texto), id(nuevo_texto))"
      ],
      "metadata": {
        "id": "Z3yANbIf63Tj",
        "outputId": "bd02a160-f27f-4553-b066-1e4bab16c14c",
        "colab": {
          "base_uri": "https://localhost:8080/"
        }
      },
      "execution_count": null,
      "outputs": [
        {
          "output_type": "stream",
          "name": "stdout",
          "text": [
            "MICAELA DE LOS SANTOS\n",
            "134741249318768 134741249528320\n"
          ]
        }
      ]
    },
    {
      "cell_type": "code",
      "source": [
        "texto = texto.strip().replace('y', 't').upper()\n",
        "print(texto)\n",
        "print(id(texto), id(nuevo_texto))"
      ],
      "metadata": {
        "id": "3tlmw0GX7w0n",
        "outputId": "a027d0ad-074a-4614-8f79-92e9f7504090",
        "colab": {
          "base_uri": "https://localhost:8080/"
        }
      },
      "execution_count": null,
      "outputs": [
        {
          "output_type": "stream",
          "name": "stdout",
          "text": [
            "MICAELA DE LOS SANTOS\n",
            "134741249528400 134741249528320\n"
          ]
        }
      ]
    },
    {
      "cell_type": "markdown",
      "source": [
        "### Observaciones\n",
        "\n",
        "1. Los métodos devuelven una **tranformación**, no son ejecutados directamente sobre la variable donde está almacenado el texto.\n",
        "\n",
        "2. Adicionalmente, podemos acumular la ejecución de los métodos."
      ],
      "metadata": {
        "id": "zukvEjhG2Rcn"
      }
    },
    {
      "cell_type": "code",
      "source": [],
      "metadata": {
        "id": "JjkBRklr_T5n"
      },
      "execution_count": null,
      "outputs": []
    },
    {
      "cell_type": "markdown",
      "source": [
        "Para que la transformación se pueda ejecutar debemos atribuir la salida de las transformaciones a las variables"
      ],
      "metadata": {
        "id": "1KbwfVut2h6I"
      }
    },
    {
      "cell_type": "code",
      "source": [],
      "metadata": {
        "id": "ocPP-Jaj_SJI"
      },
      "execution_count": null,
      "outputs": []
    },
    {
      "cell_type": "code",
      "source": [],
      "metadata": {
        "id": "m1RvLGZZ_SP3"
      },
      "execution_count": null,
      "outputs": []
    },
    {
      "cell_type": "markdown",
      "source": [
        "## Capturando datos\n",
        "\n",
        "En algunas aplicaciones necesitamos capturar los valores del usuario de nuestro proyecto. En python, logramos capturar los datos del usuario a través del comando [`input()`](https://docs.python.org/3/library/functions.html#input).\n",
        "\n",
        "Para ejecutar la captura debemos atribuir el resultado de esta función a una variable."
      ],
      "metadata": {
        "id": "0h9Fh5G9kHCa"
      }
    },
    {
      "cell_type": "code",
      "source": [
        "nombre = input(\"Escribe tu nombre\")"
      ],
      "metadata": {
        "id": "zbH_9i3q_PdY",
        "colab": {
          "base_uri": "https://localhost:8080/"
        },
        "outputId": "099d7147-4d4c-46a7-962d-f06bf5b7ed07"
      },
      "execution_count": null,
      "outputs": [
        {
          "name": "stdout",
          "output_type": "stream",
          "text": [
            "Escribe tu nombreflami\n"
          ]
        }
      ]
    },
    {
      "cell_type": "code",
      "source": [
        "type(nombre)"
      ],
      "metadata": {
        "id": "JZy1Q9Tl_PgL",
        "colab": {
          "base_uri": "https://localhost:8080/"
        },
        "outputId": "3da7656c-0488-4263-87d7-eaf942af3bd8"
      },
      "execution_count": null,
      "outputs": [
        {
          "output_type": "execute_result",
          "data": {
            "text/plain": [
              "str"
            ]
          },
          "metadata": {},
          "execution_count": 48
        }
      ]
    },
    {
      "cell_type": "markdown",
      "source": [
        "La salida de este comando siempre será una *string*. Esto quiere decir que aunque capturemos un valor de variable numérica, este será de tipo string.\n",
        "\n",
        "Entonces, será necesario **convertir el resultado cuando no se desea utilizar el valor como tipo string**."
      ],
      "metadata": {
        "id": "7z7hcLCk_aCY"
      }
    },
    {
      "cell_type": "markdown",
      "source": [
        "Existen funciones para la conversión de valores:\n",
        "\n",
        "- Enteros: [`int(dato_para_conversion)`](https://docs.python.org/3/library/functions.html#int)\n",
        "- Coma flotante: [`float(dato_para_conversion)`](https://docs.python.org/3/library/functions.html#float)\n",
        "- String: [`str(dato_para_conversion)`](https://docs.python.org/3/library/functions.html#func-str)\n",
        "- Booleano: [`bool(dato_para_conversion)`](https://docs.python.org/3/library/functions.html#bool)"
      ],
      "metadata": {
        "id": "TOlegATj1Jfp"
      }
    },
    {
      "cell_type": "code",
      "source": [
        "ano_admission = int(input(\"Difita el año de admission: \"))"
      ],
      "metadata": {
        "id": "M2ueeH6l_NMe",
        "colab": {
          "base_uri": "https://localhost:8080/"
        },
        "outputId": "0ee81391-bf51-4e8b-9132-cfe0823de2e8"
      },
      "execution_count": null,
      "outputs": [
        {
          "name": "stdout",
          "output_type": "stream",
          "text": [
            "Difita el año de admission: 2020\n"
          ]
        }
      ]
    },
    {
      "cell_type": "code",
      "source": [
        "type(ano_admission)"
      ],
      "metadata": {
        "id": "xfWwuViK_NUn",
        "colab": {
          "base_uri": "https://localhost:8080/"
        },
        "outputId": "8a0cb36e-8cb9-4ba5-9da9-85d72dc5ef40"
      },
      "execution_count": null,
      "outputs": [
        {
          "output_type": "execute_result",
          "data": {
            "text/plain": [
              "int"
            ]
          },
          "metadata": {},
          "execution_count": 59
        }
      ]
    },
    {
      "cell_type": "code",
      "source": [
        "ano_salida = int(input(\"Año de salida: \"))"
      ],
      "metadata": {
        "id": "uFCHDyew_NZm",
        "colab": {
          "base_uri": "https://localhost:8080/"
        },
        "outputId": "7a0e2b58-f5a3-46d6-bb26-840f7ec9e930"
      },
      "execution_count": null,
      "outputs": [
        {
          "name": "stdout",
          "output_type": "stream",
          "text": [
            "Año de salida: 2024\n"
          ]
        }
      ]
    },
    {
      "cell_type": "code",
      "source": [
        "type(ano_salida)"
      ],
      "metadata": {
        "id": "-GhcdsCl_rr2",
        "outputId": "815ce644-e7e8-4176-e178-006ab1e7d9f0",
        "colab": {
          "base_uri": "https://localhost:8080/"
        }
      },
      "execution_count": null,
      "outputs": [
        {
          "output_type": "execute_result",
          "data": {
            "text/plain": [
              "int"
            ]
          },
          "metadata": {},
          "execution_count": 61
        }
      ]
    },
    {
      "cell_type": "code",
      "source": [
        "ano_admission + ano_salida"
      ],
      "metadata": {
        "id": "3TWyZwJj_vry",
        "outputId": "29152909-c9df-476d-f292-0dfec79812c7",
        "colab": {
          "base_uri": "https://localhost:8080/"
        }
      },
      "execution_count": null,
      "outputs": [
        {
          "output_type": "execute_result",
          "data": {
            "text/plain": [
              "4044"
            ]
          },
          "metadata": {},
          "execution_count": 62
        }
      ]
    },
    {
      "cell_type": "markdown",
      "source": [
        "Trataremos de representar mejor ahora el resultado de la transformación que obtuvimos. Nosotros podemos formatear y presentar nuestro resultado mezclando strings con valores no textuales.\n",
        "\n",
        "Para ello utilizamos la estructura de formatación `f` con strings."
      ],
      "metadata": {
        "id": "yNI2-XTbB3aS"
      }
    },
    {
      "cell_type": "code",
      "source": [],
      "metadata": {
        "id": "keJjA5N9_K5i"
      },
      "execution_count": null,
      "outputs": []
    },
    {
      "cell_type": "markdown",
      "source": [
        "# Estructuras condicionales"
      ],
      "metadata": {
        "id": "NwRaiHHHhhyl"
      }
    },
    {
      "cell_type": "code",
      "source": [
        "#Nota de aprobacion entre 7  y 10 == nota aprobacion >= 7\n",
        "#Nota de reprobacion menor a 7 == nota reprobado < 7\n",
        "\n",
        "\"\"\"\n",
        "Si la nota es mayor o  igual a 7, entonces el estudiante aprueba,\n",
        "y si no, entonces el estudiante reprueba.\n",
        "\"\"\"\n"
      ],
      "metadata": {
        "id": "pa4gLncu-mvU",
        "colab": {
          "base_uri": "https://localhost:8080/",
          "height": 35
        },
        "outputId": "d5a6b718-a83b-4071-9d4b-24c0dd70db02"
      },
      "execution_count": null,
      "outputs": [
        {
          "output_type": "execute_result",
          "data": {
            "text/plain": [
              "'\\nSi la nota es mayor o  igual a 7, entonces el estudiante aprueba,\\ny si no, entonces el estudiante reprueba.\\n'"
            ],
            "application/vnd.google.colaboratory.intrinsic+json": {
              "type": "string"
            }
          },
          "metadata": {},
          "execution_count": 51
        }
      ]
    },
    {
      "cell_type": "code",
      "source": [],
      "metadata": {
        "id": "_cWRmDiE-m4p"
      },
      "execution_count": null,
      "outputs": []
    },
    {
      "cell_type": "markdown",
      "source": [
        "## `IF` y `ELSE`\n",
        "\n",
        "Los comandos `if` y `else` son dos estructuras condicionales. El comando `if` ejecutará el bloque de comandos en caso de que la condición citada sea  **verdadera**. El comando `else` ejecutará el bloque de comandos en el caso de que la condicional de `if` sea **falsa**."
      ],
      "metadata": {
        "id": "qXZqg9aYEhAh"
      }
    },
    {
      "cell_type": "markdown",
      "source": [
        "El comando `if` es una palabra clave en Python que significa \"si\". Este se emplea para conformar la estructura condicional, que te permite verificar si una determinada condición es verdadera o falsa e, inmediatamente después, ejecute un bloque de código específico dependiendo del resultado de la verificación. La sintaxis para usar el comando `if` es:\n",
        "\n",
        "\n",
        "\n",
        "```\n",
        "if condicion:\n",
        "    # Realiza algo\n",
        "```\n",
        "\n"
      ],
      "metadata": {
        "id": "EIhlqHXd2Gil"
      }
    },
    {
      "cell_type": "code",
      "source": [
        "if 2 < 7:\n",
        "  print(\"La condicion es verdadera\")\n"
      ],
      "metadata": {
        "id": "S2S6XAFz-czM",
        "colab": {
          "base_uri": "https://localhost:8080/"
        },
        "outputId": "726ba0ec-417c-4480-c1cf-77e26f0747db"
      },
      "execution_count": null,
      "outputs": [
        {
          "output_type": "stream",
          "name": "stdout",
          "text": [
            "La condicion es verdadera\n"
          ]
        }
      ]
    },
    {
      "cell_type": "code",
      "source": [
        "if 2 > 7:\n",
        "  print(\"La condicion es verdadera\")\n",
        "print(\"fin del programa\")"
      ],
      "metadata": {
        "id": "xyOPbhaampr3",
        "outputId": "8cd849aa-2352-4be6-af6e-449d39538119",
        "colab": {
          "base_uri": "https://localhost:8080/"
        }
      },
      "execution_count": null,
      "outputs": [
        {
          "output_type": "stream",
          "name": "stdout",
          "text": [
            "fin del programa\n"
          ]
        }
      ]
    },
    {
      "cell_type": "markdown",
      "source": [
        "Ya el comando `else` en Python se usa en junción con la palabra clave `if` para formar una estructura condicional. la sintaxis para usar el `else` es:\n",
        "\n",
        "```\n",
        "if condicion:\n",
        "  # codigo en caso de que sea verdad\n",
        "else:\n",
        "  # codigo en caso de que sea falso\n",
        "```\n",
        "\n",
        "el comando `else` se ejecuta cuando la condición verificada por el `if` es evaluada como `False`."
      ],
      "metadata": {
        "id": "27RW2v_sIKct"
      }
    },
    {
      "cell_type": "code",
      "source": [
        "if 2 > 7:\n",
        "  print(\"La condicion es verdadera\")\n",
        "else:\n",
        "  print(\"La condicion es falsa\")\n",
        "print(\"fin de la consulta\")"
      ],
      "metadata": {
        "id": "ZTfNJd_f-aOq",
        "colab": {
          "base_uri": "https://localhost:8080/"
        },
        "outputId": "d94ca97a-7c5f-49eb-d8e2-47f4d7c3b1ef"
      },
      "execution_count": null,
      "outputs": [
        {
          "output_type": "stream",
          "name": "stdout",
          "text": [
            "La condicion es falsa\n",
            "fin de la consulta\n"
          ]
        }
      ]
    },
    {
      "cell_type": "code",
      "source": [],
      "metadata": {
        "id": "LPOb5MkV-btq"
      },
      "execution_count": null,
      "outputs": []
    },
    {
      "cell_type": "markdown",
      "source": [
        "---\n",
        "**Situación:**\n",
        "\n",
        "Recibiremos el promedio de la nota de los estudiantes y necesitamos de un algoritmo que ejecute el análisis y determine si el estudiante fue **Aprobado** o **Reprobado**, mostrando un mensaje del resultado. Para ser aprobado, el promedio necesita ser igual o superior a 7.0."
      ],
      "metadata": {
        "id": "BqORg85XX-Nl"
      }
    },
    {
      "cell_type": "code",
      "source": [
        "nota = float(input(\"Escribe la nota: \"))\n",
        "\n",
        "if nota >= 7:\n",
        "  print(\"aprobo\")\n",
        "else:\n",
        "  print(\"reprobo\")"
      ],
      "metadata": {
        "id": "UukCN4AQ-YYW",
        "colab": {
          "base_uri": "https://localhost:8080/"
        },
        "outputId": "2291f460-500a-4f84-e732-ba8b90044bd8"
      },
      "execution_count": null,
      "outputs": [
        {
          "output_type": "stream",
          "name": "stdout",
          "text": [
            "Escribe la nota: 5\n",
            "reprobo\n"
          ]
        }
      ]
    },
    {
      "cell_type": "markdown",
      "source": [
        "Ahora, nuestra institución educativa estableció que las personas que tengan el promedio entre 5.0 y 7.0 pueden participar del curso de **Recuperación** durante las vacaciones para lograr aprobar.\n",
        "\n",
        "Entonces podemos apoyarnos en un conjunto de `if`s para poder estructurar esta nueva condición."
      ],
      "metadata": {
        "id": "bD9O17HB6LUo"
      }
    },
    {
      "cell_type": "code",
      "source": [
        "nota = float(input(\"Escribe la nota: \"))\n",
        "\n",
        "if nota >= 7:\n",
        "  print(\"aprobo\")\n",
        "if 7 > nota >= 5:\n",
        "  print(\"recuperatorio\")\n",
        "if nota < 5:\n",
        "  print(\"reprobo\")"
      ],
      "metadata": {
        "id": "G9cJ5O9--W52",
        "colab": {
          "base_uri": "https://localhost:8080/"
        },
        "outputId": "2fda0a4d-9ef5-4f5c-8ea4-c40a96a112e2"
      },
      "execution_count": null,
      "outputs": [
        {
          "output_type": "stream",
          "name": "stdout",
          "text": [
            "Escribe la nota: 7.5\n",
            "aprobo\n"
          ]
        }
      ]
    },
    {
      "cell_type": "code",
      "source": [],
      "metadata": {
        "id": "iU-pjoJt-W89"
      },
      "execution_count": null,
      "outputs": []
    },
    {
      "cell_type": "markdown",
      "source": [
        "Observa que en casos con 3 situaciones como este necesitamos definir bien nuestras condiciones. Pues, si realizamos una condición con `else` al final, este irá a considerar solamente la condición `if` inmediatamente anterior para generar la salida en caso de que el resultado de su operación lógica sea **falso** dando como resultado, dos o más ejecuciones.\n",
        "\n",
        "Por ejemplo:"
      ],
      "metadata": {
        "id": "D5e2mByjvycO"
      }
    },
    {
      "cell_type": "code",
      "source": [
        "nota = float(input(\"Escribe la nota: \"))\n",
        "\n",
        "if nota >= 7:\n",
        "  print(\"aprobo\")\n",
        "if 7 > nota >= 5:\n",
        "  print(\"recuperatorio\")\n",
        "else:\n",
        "  print(\"reprobo\")"
      ],
      "metadata": {
        "id": "C21JmOuK-VU8",
        "colab": {
          "base_uri": "https://localhost:8080/"
        },
        "outputId": "b5eb37ac-b745-4ef6-8cf1-03a877cfb6a9"
      },
      "execution_count": null,
      "outputs": [
        {
          "output_type": "stream",
          "name": "stdout",
          "text": [
            "Escribe la nota: 7.5\n",
            "aprobo\n",
            "reprobo\n"
          ]
        }
      ]
    },
    {
      "cell_type": "code",
      "source": [],
      "metadata": {
        "id": "bHiVgnPs-Vlv"
      },
      "execution_count": null,
      "outputs": []
    },
    {
      "cell_type": "markdown",
      "source": [
        "## `ELIF`\n",
        "\n",
        "El comando `elif` es una palabra clave en Python que significa \"si no, si\" y lo podemos considerar una *contracción* entre `else` e `if`. Se utiliza en conjunto con la palabra clave `if` para formar una estructura condicional en cadena."
      ],
      "metadata": {
        "id": "04T5g-7h4zWx"
      }
    },
    {
      "cell_type": "markdown",
      "source": [
        "la sintaxis para utilizar el comando `elif` es:\n",
        "\n",
        "```\n",
        "if condicion1:\n",
        "    # Realiza algo\n",
        "elif condicion2:\n",
        "    # Realiza otra cosa\n",
        "elif condicion3:\n",
        "    # Realiza otra cosa\n",
        "else:\n",
        "    # Realiza algo diferente\n",
        "```\n",
        "\n",
        "El comando `elif` permite que puedas verificar varias condiciones en cadena, economizando espacio en tu código. Si la primera condición se evalúa como `False`, el interpretador de Python evaluará la próxima condición con el `elif`. Ello continuará hasta que una condición sea evaluada como `True` o hasta que el `else` sea alcazado. Si ninguna de las condiciones es evaluada como `True`, la ejecución del código del comando `else` será iniciada."
      ],
      "metadata": {
        "id": "rNBHr5mm1Lm6"
      }
    },
    {
      "cell_type": "markdown",
      "source": [
        "Vamos a emplear el mismo caso anterior:"
      ],
      "metadata": {
        "id": "MVoykFbB4bd4"
      }
    },
    {
      "cell_type": "code",
      "source": [
        "nota = float(input(\"Escribe la nota: \"))\n",
        "\n",
        "if nota >= 7:\n",
        "  print(\"aprobo\")\n",
        "elif 7 > nota >= 5:\n",
        "  print(\"recuperatorio\")\n",
        "else:\n",
        "  print(\"reprobo\")"
      ],
      "metadata": {
        "id": "QFamB78s-TW_",
        "colab": {
          "base_uri": "https://localhost:8080/"
        },
        "outputId": "b3f096aa-b933-4280-ce93-8906edd72550"
      },
      "execution_count": null,
      "outputs": [
        {
          "output_type": "stream",
          "name": "stdout",
          "text": [
            "Escribe la nota: 4\n",
            "reprobo\n"
          ]
        }
      ]
    },
    {
      "cell_type": "code",
      "source": [],
      "metadata": {
        "id": "nuScbnHF-TfK"
      },
      "execution_count": null,
      "outputs": []
    },
    {
      "cell_type": "markdown",
      "source": [
        "## Operadores\n",
        "\n",
        "Durante la construcción de comandos a veces necesitamos de una elaboración mayor de la expresión condicional, necesitando que algunos operadores lógicos se encuentren integrados."
      ],
      "metadata": {
        "id": "Tf1wSOem6iwZ"
      }
    },
    {
      "cell_type": "markdown",
      "source": [
        "### `AND`, `OR`, `NOT`\n",
        "\n",
        "Los operadores lógicos `and`, `or` y `not` son usados para combinar expresiones lógicas en Python. Ellos son usados frecuentemente en conjunto con el comando `if` para crear estructuras condicionales más complejas.\n"
      ],
      "metadata": {
        "id": "GFIZnRWXGPWO"
      }
    },
    {
      "cell_type": "markdown",
      "source": [
        "- `AND` es usado para verificar si dos condiciones son verdaderas. La expresión lógica¹ `x and y` se evalúa como `True` tan solo si **ambas condiciones `x` y `y` son verdaderas**, y como `False` en caso contrario.\n",
        "\n",
        "- `OR` es usado para verificar si al menos una de las condiciones es verdadera. La expresión lógica `x or y` se evalúa como `True` **si al menos una de las condiciones `x` o `y` es verdadera**, y como `False` si ambas condiciones son falsas.\n",
        "\n",
        "- `NOT` es usado para **negar una condición**. La expresión lógica `not x` es evaluada como `True` si la condición x es falsa, y como `False` si la condición x es verdadera.\n",
        "\n",
        "¹ Una expresión lógica es una declaración que puede ser evaluada como verdadera o falsa. Ella se compone por operandos lógicos² y por operadores lógicos³, que son usados ​​para combinar varias expresiones lógicas en una única expresión.\n",
        "\n",
        "² Los operandos lógicos son los elementos que son comparados o evaluados en una expresión lógica. Ellos son generalmente valores verdaderos o falsos, pero también pueden ser expresiones lógicas más complejas. En Python, los operandos lógicos son los valores `True` y `False`.\n",
        "\n",
        "³ Los operadores lógicos son ls símbolos o palabras clave que son usados ​​para combinar varias expresiones lógicas en una única expresión. En Python, los operadores lógicos son `and`, `or` y `not`, bien como las palabras clave `if`, `elif` e `else`."
      ],
      "metadata": {
        "id": "Z_dgAoHXJbzB"
      }
    },
    {
      "cell_type": "markdown",
      "source": [
        "> Operadores lógicos más comunes\n",
        "\n",
        "|a|b|AND|OR|NOT|\n",
        "|-|-|-|-|-|\n",
        "|0|0|0|0|1\n",
        "|0|1|0|1|-\n",
        "|1|0|0|1|-\n",
        "|1|1|1|1|0\n"
      ],
      "metadata": {
        "id": "2E5aUogf-49u"
      }
    },
    {
      "cell_type": "code",
      "source": [
        "v = True\n",
        "f = False"
      ],
      "metadata": {
        "id": "DFKmpvmS-Pa6"
      },
      "execution_count": null,
      "outputs": []
    },
    {
      "cell_type": "code",
      "source": [
        "#El unico caso de para que salga v(true) es que ambas sean verdaderas\n",
        "#de lo contrario la salida es false\n",
        "if v and v:\n",
        "  print(\"la condicion es verdadera\")\n",
        "else:\n",
        "  print(\"la condicion es falsa\")"
      ],
      "metadata": {
        "id": "W5BIrpOD-PeI",
        "colab": {
          "base_uri": "https://localhost:8080/"
        },
        "outputId": "446f72a3-09da-4daf-e50c-2c26c86ed51f"
      },
      "execution_count": null,
      "outputs": [
        {
          "output_type": "stream",
          "name": "stdout",
          "text": [
            "la condicion es verdadera\n"
          ]
        }
      ]
    },
    {
      "cell_type": "code",
      "source": [
        "#Si ambas son f(false) y f(false) es el  unico caso que la salida es falsa\n",
        "#si alguna o ambas son v(True), la salida da verdadero\n",
        "if f or f:\n",
        "  print(\"la condicion es verdadera\")\n",
        "else:\n",
        "  print(\"la condicion es falsa\")"
      ],
      "metadata": {
        "id": "fpDhYxq4-PiM",
        "colab": {
          "base_uri": "https://localhost:8080/"
        },
        "outputId": "f373d175-0de1-4610-b27e-78f474802e5a"
      },
      "execution_count": null,
      "outputs": [
        {
          "output_type": "stream",
          "name": "stdout",
          "text": [
            "la condicion es falsa\n"
          ]
        }
      ]
    },
    {
      "cell_type": "code",
      "source": [
        "#Si no es verdadero es  falso y si no es falso es verdadero\n",
        "if not f:\n",
        "  print(\"la condicion es verdadera\")\n",
        "else:\n",
        "  print(\"la condicion es falsa\")"
      ],
      "metadata": {
        "id": "lxhl2JT07CaD",
        "outputId": "70b04b29-ccee-4149-9206-b5b32d579f9c",
        "colab": {
          "base_uri": "https://localhost:8080/"
        }
      },
      "execution_count": null,
      "outputs": [
        {
          "output_type": "stream",
          "name": "stdout",
          "text": [
            "la condicion es verdadera\n"
          ]
        }
      ]
    },
    {
      "cell_type": "markdown",
      "source": [
        "### `IN`\n",
        "\n",
        "Es usado para verificar si un elemento está presente en una lista, tupla u otra colección de conjunto. La expresión `x in y` se evalúa como `True` si el elemento `x` esta presente na variávelen la variable de conjunto `y`, y como `False` en caso contrario."
      ],
      "metadata": {
        "id": "w7EXG1dhWtja"
      }
    },
    {
      "cell_type": "markdown",
      "source": [
        "Podemos verificarlo con variables de texto.\n",
        "\n",
        "---\n",
        "\n",
        "**Situación:**\n",
        "\n",
        "En la escuela nos entregaron una lista con nombres de estudiantes que fueron aprobados según el promedio del semestre, pero es necesario verificar si algunos nombres están en esa lista para confirmar que los datos estén correctos.\n",
        "\n",
        "La lista distribuida puede ser observada a continuación:\n",
        "\n",
        "```\n",
        "lista = 'Juan Pérez, María González, Pedro Rodríguez, Ana López, Carlos Martínez,\n",
        "    Laura Sánchez, José García, Elena Fernández, Luis Morales, Carmen Torres,\n",
        "    David Ruiz, Isabel Ramírez, Javier Díaz, Sara Herrera, Miguel Castro,\n",
        "    Patricia Ortega, Francisco Vargas, Marta Jiménez, Manuel Medina, Rosa Molina,\n",
        "    Alejandro Silva, Silvia Ruiz, Andrés Torres, Natalia Soto, Diego Guerrero,\n",
        "    Paula Ríos, Ricardo Navarro, Alicia Cordero, Carlos Vidal, Lorena Gómez'\n",
        "```\n",
        "\n",
        "Los nombres que necesitas verificar son los siguientes:\n",
        "\n",
        "```\n",
        "nombre_1 = 'Miguel Castro'\n",
        "nombre_2 = 'Marcelo Noguera'\n",
        "```"
      ],
      "metadata": {
        "id": "enJNp6JenQbq"
      }
    },
    {
      "cell_type": "code",
      "source": [
        "lista = 'Juan Pérez, María González, Pedro Rodríguez, Ana López, Carlos Martínez,Laura Sánchez, José García, Elena Fernández, Luis Morales, Carmen Torres,David Ruiz, Isabel Ramírez, Javier Díaz, Sara Herrera, Miguel Castro,Patricia Ortega, Francisco Vargas, Marta Jiménez, Manuel Medina, Rosa Molina,Alejandro Silva, Silvia Ruiz, Andrés Torres, Natalia Soto, Diego Guerrero,Paula Ríos, Ricardo Navarro, Alicia Cordero, Carlos Vidal, Lorena Gómez'"
      ],
      "metadata": {
        "id": "gPPN9BCT-Mki"
      },
      "execution_count": null,
      "outputs": []
    },
    {
      "cell_type": "code",
      "source": [
        "nombre_1 = 'Miguel Castro'\n",
        "nombre_2 = 'Marcelo Noguera'"
      ],
      "metadata": {
        "id": "GINbG3Fa-Mnb"
      },
      "execution_count": null,
      "outputs": []
    },
    {
      "cell_type": "code",
      "source": [
        "if nombre_1 in lista:\n",
        "  print(\"el estudiante aprobo\")\n",
        "else:\n",
        "  print(\"el estudiante desaprobo\")"
      ],
      "metadata": {
        "id": "hk-RhNRT-Mp7",
        "colab": {
          "base_uri": "https://localhost:8080/"
        },
        "outputId": "f9678522-fed0-411c-c124-c18b6eda1591"
      },
      "execution_count": null,
      "outputs": [
        {
          "output_type": "stream",
          "name": "stdout",
          "text": [
            "el estudiante aprobo\n"
          ]
        }
      ]
    },
    {
      "cell_type": "code",
      "source": [
        "if nombre_2 in lista:\n",
        "  print(\"el estudiante aprobo\")\n",
        "else:\n",
        "  print(\"el estudiante desaprobo\")"
      ],
      "metadata": {
        "id": "GilbR27U9ANn",
        "outputId": "12f57ecb-c988-4bb6-cdb0-7f9a431dc02a",
        "colab": {
          "base_uri": "https://localhost:8080/"
        }
      },
      "execution_count": null,
      "outputs": [
        {
          "output_type": "stream",
          "name": "stdout",
          "text": [
            "el estudiante desaprobo\n"
          ]
        }
      ]
    },
    {
      "cell_type": "markdown",
      "source": [
        "# Estructuras de repetición"
      ],
      "metadata": {
        "id": "aL1vJPewvwvz"
      }
    },
    {
      "cell_type": "markdown",
      "source": [
        "Cuando tenemos que ejecutar un mismo bloque de comandos durante varias ocasiones no es nada práctico hacerlo a mano.\n",
        "\n",
        "**Situación**: Nos fue solicitado obtener e imprimir el promedio de 2 notas de **3 estudantes**:"
      ],
      "metadata": {
        "id": "VcPfCa8d-84t"
      }
    },
    {
      "cell_type": "code",
      "source": [
        "estudiante_uno = float(input(\"Escribe la nota del estudiante: \"))\n",
        "estudiante_dos = float(input(\"Escribe la nota del estudiante: \"))\n",
        "\n",
        "print(f\"El promedio del estudiante 1 es: {(estudiante_uno + estudiante_dos ) / 2}\")\n",
        "\n",
        "\n",
        "estudiante_uno = float(input(\"Escribe la nota del estudiante: \"))\n",
        "estudiante_dos = float(input(\"Escribe la nota del estudiante: \"))\n",
        "\n",
        "print(f\"El promedio del estudiante 2 es: {(estudiante_uno + estudiante_dos) / 2}\")\n",
        "\n",
        "\n",
        "estudiante_uno = float(input(\"Escribe la nota del estudiante: \"))\n",
        "estudiante_dos = float(input(\"Escribe la nota del estudiante: \"))\n",
        "\n",
        "print(f\"El promedio del estudiante 3 es: {(estudiante_uno + estudiante_dos) / 2}\")"
      ],
      "metadata": {
        "id": "Yfyz4anY9rIr",
        "colab": {
          "base_uri": "https://localhost:8080/"
        },
        "outputId": "3f14745a-ed40-4796-c3db-92c1377bab36"
      },
      "execution_count": null,
      "outputs": [
        {
          "output_type": "stream",
          "name": "stdout",
          "text": [
            "Escribe la nota del estudiante: 10\n",
            "Escribe la nota del estudiante: 4\n",
            "El promedio del estudiante 1 es: 7.0\n",
            "Escribe la nota del estudiante: 9\n",
            "Escribe la nota del estudiante: 4\n",
            "El promedio del estudiante 2 es: 6.5\n",
            "Escribe la nota del estudiante: 4\n",
            "Escribe la nota del estudiante: 5\n",
            "El promedio del estudiante 3 es: 4.5\n"
          ]
        }
      ]
    },
    {
      "cell_type": "markdown",
      "source": [
        "Ahora imaginemos una situación en que no son tan solo 3 estudiantes, sino 100 estudiantes. No sería nada interesante repetir el mismo código 100 veces, sino **ejecutar el mismo código 100 veces**.\n",
        "\n",
        "¡Esta estructura la logramos construir con lazos de repetición!"
      ],
      "metadata": {
        "id": "9puIuvUbFSFX"
      }
    },
    {
      "cell_type": "markdown",
      "source": [
        "## `WHILE`"
      ],
      "metadata": {
        "id": "uLO9-aE4-wx8"
      }
    },
    {
      "cell_type": "markdown",
      "source": [
        "El lazo `while` es una estructura de control de repetición en Python que permite ejecutar un bloque de código repetidamente mientras que una determinada condición sea verdadera. Su estructura es:\n",
        "\n",
        "\n",
        "\n",
        "```\n",
        "while condicion:\n",
        "    # bloque de codigo\n",
        "```\n",
        "\n",
        "Vamos a construir un ejemplo con un contador de 1 hasta 10.\n"
      ],
      "metadata": {
        "id": "rXZxDMiqHxm9"
      }
    },
    {
      "cell_type": "code",
      "source": [
        "contador =  1\n",
        "while contador <= 10:\n",
        "  print(contador)\n",
        "  #contador = contador + 1\n",
        "  contador += 1"
      ],
      "metadata": {
        "id": "Hd0ZSWxD9wCD",
        "colab": {
          "base_uri": "https://localhost:8080/"
        },
        "outputId": "fc0fbb94-0a0a-4420-efa3-92317b3e550b"
      },
      "execution_count": null,
      "outputs": [
        {
          "output_type": "stream",
          "name": "stdout",
          "text": [
            "1\n",
            "2\n",
            "3\n",
            "4\n",
            "5\n",
            "6\n",
            "7\n",
            "8\n",
            "9\n",
            "10\n"
          ]
        }
      ]
    },
    {
      "cell_type": "markdown",
      "source": [
        "Ahora vamos a colectar las notas y promedios de cada alumno dentro del lazo `while`. Haremos un ejemplo con 3 promedios."
      ],
      "metadata": {
        "id": "W4KZPBJuIrut"
      }
    },
    {
      "cell_type": "code",
      "source": [
        "contador = 1\n",
        "\n",
        "while contador <=3:\n",
        "  estudiante_uno = float(input(\"Escribe la nota del estudiante: \"))\n",
        "  estudiante_dos = float(input(\"Escribe la nota del estudiante: \"))\n",
        "  print(f\"El promedio del estudiante es: {(estudiante_uno + estudiante_dos ) / 2}\")\n",
        "  contador += 1"
      ],
      "metadata": {
        "id": "9T5eCLFx9wk6",
        "colab": {
          "base_uri": "https://localhost:8080/"
        },
        "outputId": "f342e314-1aa9-43e9-efd6-fac8ef7db0f2"
      },
      "execution_count": null,
      "outputs": [
        {
          "output_type": "stream",
          "name": "stdout",
          "text": [
            "Escribe la nota del estudiante: 6\n",
            "Escribe la nota del estudiante: 6\n",
            "El promedio del estudiante es: 6.0\n",
            "Escribe la nota del estudiante: 10\n",
            "Escribe la nota del estudiante: 5\n",
            "El promedio del estudiante es: 7.5\n",
            "Escribe la nota del estudiante: 8\n",
            "Escribe la nota del estudiante: 5\n",
            "El promedio del estudiante es: 6.5\n"
          ]
        }
      ]
    },
    {
      "cell_type": "markdown",
      "source": [
        "## `FOR`"
      ],
      "metadata": {
        "id": "WgAIaENMMfCP"
      }
    },
    {
      "cell_type": "markdown",
      "source": [
        "El lazo `for` es un tipo de estructura de control de flujo en Python que permite iterar sobre un conjunto de elementos. Su estructura es:\n",
        "\n",
        "\n",
        "\n",
        "```\n",
        "for elemento in conjunto:\n",
        "    # codigo a ser ejecutado para cada elemento\n",
        "```\n",
        "\n",
        "El lazo `for` itera sobre cada elemento del conjunto especificado y ejecuta el bloque de código dentro del lazo para cada elemento. Cuando el lazo llega al final del conjunto, este se interrumpe y el programa continúa la ejecución después del lazo.\n",
        "\n"
      ],
      "metadata": {
        "id": "HxrSZoRAMh-x"
      }
    },
    {
      "cell_type": "markdown",
      "source": [
        "El conjunto lo podemos generar con la función incorporada [`range()`](https://docs.python.org/3/library/functions.html#func-range). Se trata de una función capaz de generar una secuencia de números enteros. La estructura de esta función es:\n",
        "\n",
        "```\n",
        "range(inicio, fin, paso)\n",
        "```\n",
        "\n",
        "Según la documentación, `range()` genera una secuencia de números enteros a partir del valor del parámetro `inicio` hasta el valor del parámetro `fin`, de acuerdo con el valor del parámetro `paso`. Si `inicio` no es especificado, el valor por defecto es `0`. Si `paso` no es especificado, el valor por defecto es `1`.\n",
        "\n",
        "\n"
      ],
      "metadata": {
        "id": "6VgjyoQtPHBM"
      }
    },
    {
      "cell_type": "markdown",
      "source": [
        "Vamos a recrear el mismo contador `while` con el lazo `for`."
      ],
      "metadata": {
        "id": "ryn0hfdlUwC8"
      }
    },
    {
      "cell_type": "code",
      "source": [
        "for n in range(1,11):\n",
        "  print(n)"
      ],
      "metadata": {
        "id": "KkL1wUIj9jL4",
        "colab": {
          "base_uri": "https://localhost:8080/"
        },
        "outputId": "3d2153e1-b27a-45b2-8fe6-94409a9c3b3d"
      },
      "execution_count": null,
      "outputs": [
        {
          "output_type": "stream",
          "name": "stdout",
          "text": [
            "1\n",
            "2\n",
            "3\n",
            "4\n",
            "5\n",
            "6\n",
            "7\n",
            "8\n",
            "9\n",
            "10\n"
          ]
        }
      ]
    },
    {
      "cell_type": "code",
      "source": [
        "for e in range(1,4):\n",
        "  estudiante_uno = float(input(\"Escribe la nota del estudiante: \"))\n",
        "  estudiante_dos = float(input(\"Escribe la nota del estudiante: \"))\n",
        "  print(f\"El promedio del estudiante es: {(estudiante_uno + estudiante_dos ) / 2}\")"
      ],
      "metadata": {
        "id": "uXIZnLSr9jOu",
        "colab": {
          "base_uri": "https://localhost:8080/"
        },
        "outputId": "d61146b7-96e3-40d3-add3-9885cb8394b3"
      },
      "execution_count": null,
      "outputs": [
        {
          "output_type": "stream",
          "name": "stdout",
          "text": [
            "Escribe la nota del estudiante: 5\n",
            "Escribe la nota del estudiante: 6\n",
            "El promedio del estudiante es: 5.5\n",
            "Escribe la nota del estudiante: 7\n",
            "Escribe la nota del estudiante: 8\n",
            "El promedio del estudiante es: 7.5\n",
            "Escribe la nota del estudiante: 9\n",
            "Escribe la nota del estudiante: 10\n",
            "El promedio del estudiante es: 9.5\n"
          ]
        }
      ]
    },
    {
      "cell_type": "markdown",
      "source": [
        "# Estructuras de datos"
      ],
      "metadata": {
        "id": "8noP8OJ0Vhux"
      }
    },
    {
      "cell_type": "markdown",
      "source": [
        "Un conjunto de elementos es una colección de items, que son almacenados juntos de manera organizada. Algunos ejemplos de conjuntos de elementos en Python son las listas, los strings y los diccionarios."
      ],
      "metadata": {
        "id": "xpEUkefTu8fY"
      }
    },
    {
      "cell_type": "markdown",
      "source": [
        "## Listas"
      ],
      "metadata": {
        "id": "THSg4KYLwxIb"
      }
    },
    {
      "cell_type": "markdown",
      "source": [
        "Las listas pueden almacenar una colección de items en orden. Ellas son delimitadas por corchetes `[]` y sus elementos son separados por comas.\n",
        "\n",
        "Estas pueden almacenar cualquier tipo de items, incluyendo números, strings, objetos, otras listas, entre otros. También nos permiten almacenar items de tipos de datos diferentes juntos en una única lista."
      ],
      "metadata": {
        "id": "dzpsiqrOyJcK"
      }
    },
    {
      "cell_type": "code",
      "source": [
        "lista = ['Penélope Camacho',9.5,9.0,9.7,True]\n",
        "lista"
      ],
      "metadata": {
        "id": "DO3TBj7nAYeG",
        "colab": {
          "base_uri": "https://localhost:8080/"
        },
        "outputId": "fbee2eb5-265e-4b5b-badf-a0dd9331074b"
      },
      "execution_count": null,
      "outputs": [
        {
          "output_type": "execute_result",
          "data": {
            "text/plain": [
              "['Penélope Camacho', 9.5, 9.0, 9.7, True]"
            ]
          },
          "metadata": {},
          "execution_count": 62
        }
      ]
    },
    {
      "cell_type": "code",
      "source": [],
      "metadata": {
        "id": "DO2ubP9N9D_2"
      },
      "execution_count": null,
      "outputs": []
    },
    {
      "cell_type": "markdown",
      "source": [
        "Las listas son organizadas en Python porque **cada elemento de la lista tiene un índice que indica su posición al interior de la lista**. Los índices comienzan en 0 van hasta el tamaño de la lista menos 1."
      ],
      "metadata": {
        "id": "qUz3sJNl6LgK"
      }
    },
    {
      "cell_type": "markdown",
      "source": [
        "Tenemos entonces 5 elementos con índices que varían de 0 a 4, ordenadamente:\n",
        "\n",
        "```\n",
        "#             [0]           [1]   [2]   [3]    [4]\n",
        "lista = ['Penélope Camacho', 9.5 , 9.0 , 9.7 , True]\n",
        "```\n",
        "\n",
        "En Python tenemos también los índices **negativos** que se inician en el último elemento con el valor de `-1` y avanzan en el universo de los negativos hasta llegar al 1° elemento:\n",
        "\n",
        "```\n",
        "#             [-5]         [-4]  [-3]  [-2]   [-1]\n",
        "lista = ['Penélope Camacho', 9.5 , 9.0 , 9.7 , True]\n",
        "```\n",
        "\n",
        "Logramos seleccionar separadamente cada elemento a través de sus respectivos índices. Colocando el nombre de la lista y en seguida el índice que será seleccionado."
      ],
      "metadata": {
        "id": "rLf-Qg526hFD"
      }
    },
    {
      "cell_type": "code",
      "source": [],
      "metadata": {
        "id": "4hco1Zqy88Kw"
      },
      "execution_count": null,
      "outputs": []
    },
    {
      "cell_type": "code",
      "source": [],
      "metadata": {
        "id": "M8lH0I2288Ph"
      },
      "execution_count": null,
      "outputs": []
    },
    {
      "cell_type": "markdown",
      "source": [
        "Una forma más dinámica de trabajar item a item en una lista es utilizando un lazo `for` para leer un elemento a la vez."
      ],
      "metadata": {
        "id": "6TaE1ijmBTCd"
      }
    },
    {
      "cell_type": "code",
      "source": [],
      "metadata": {
        "id": "rBx4Yu1786Sy"
      },
      "execution_count": null,
      "outputs": []
    },
    {
      "cell_type": "markdown",
      "source": [
        "**Situación**: La nota `9.0` de Penélope necesita ser ajustada pues ganó 1 punto en su última nota por participación en clase. Entonces es necesario realizar un cambio en el índice `2` de `9.0` a `10.0`."
      ],
      "metadata": {
        "id": "Dh1_HnIVvucY"
      }
    },
    {
      "cell_type": "code",
      "source": [],
      "metadata": {
        "id": "bVPoZg668z3T"
      },
      "execution_count": null,
      "outputs": []
    },
    {
      "cell_type": "code",
      "source": [],
      "metadata": {
        "id": "Jo_PBQ0g8z7D"
      },
      "execution_count": null,
      "outputs": []
    },
    {
      "cell_type": "markdown",
      "source": [
        "También podemos calcular el promedio del estudiante a partir de los datos que tenemos."
      ],
      "metadata": {
        "id": "53XduzXkycAf"
      }
    },
    {
      "cell_type": "code",
      "source": [],
      "metadata": {
        "id": "SIH61Rrb8yv4"
      },
      "execution_count": null,
      "outputs": []
    },
    {
      "cell_type": "markdown",
      "source": [
        "## Manipulación de listas\n",
        "\n",
        "Las listas son muy útiles en Python porque nos permiten almacenar y acceder a una colección de items de manera organizada y rápida. Estas también ofrecen muchos métodos útiles para manipular los itens almacenados, como adicionar, remover, clasificar y buscar elementos."
      ],
      "metadata": {
        "id": "d-iYr10-y4qw"
      }
    },
    {
      "cell_type": "markdown",
      "source": [
        "#### Cantidad de elementos\n",
        "\n",
        "Usamos la función [`len()`](https://docs.python.org/3/library/functions.html#len) para descubrir la cantidad de elementos de un conjunto."
      ],
      "metadata": {
        "id": "ZLqx9A97XVB_"
      }
    },
    {
      "cell_type": "code",
      "source": [],
      "metadata": {
        "id": "6q1Tmm7P8wQf"
      },
      "execution_count": null,
      "outputs": []
    },
    {
      "cell_type": "markdown",
      "source": [
        "#### Partición\n",
        "\n",
        "La partición de listas por indexación en Python es una técnica muy útil para seleccionar un subconjunto de elementos de una lista. Esta se realiza usando la sintaxis `lista[inicio:fin]`, donde `inicio` es el índice del primer elemento que será incluído en la partición `fin` es el índice del primer elemento que será excluído de la partición."
      ],
      "metadata": {
        "id": "Z5tpstlHJss3"
      }
    },
    {
      "cell_type": "code",
      "source": [],
      "metadata": {
        "id": "NctvJTTU8uV9"
      },
      "execution_count": null,
      "outputs": []
    },
    {
      "cell_type": "code",
      "source": [],
      "metadata": {
        "id": "bQZUwldj8uY2"
      },
      "execution_count": null,
      "outputs": []
    },
    {
      "cell_type": "markdown",
      "source": [
        "#### [`append()`](https://docs.python.org/3/tutorial/datastructures.html#:~:text=of%20list%20objects%3A-,list.append(x),-Add%20an%20item)\n",
        "\n",
        "Añade un elemento al final de la lista."
      ],
      "metadata": {
        "id": "O0RRyabkRzZC"
      }
    },
    {
      "cell_type": "code",
      "source": [],
      "metadata": {
        "id": "_Q0oODwa8spC"
      },
      "execution_count": null,
      "outputs": []
    },
    {
      "cell_type": "code",
      "source": [],
      "metadata": {
        "id": "RM894r2M8sse"
      },
      "execution_count": null,
      "outputs": []
    },
    {
      "cell_type": "markdown",
      "source": [
        "#### [`extend()`](https://docs.python.org/3/tutorial/datastructures.html#:~:text=list.extend(iterable))\n",
        "\n",
        "Añade varios elementos al final de la lista.\n",
        "\n",
        "Añadiremos las notas `[10.0,8.0,9.0]` En la lista de Penélope Camacho."
      ],
      "metadata": {
        "id": "uQV91XMsUOJD"
      }
    },
    {
      "cell_type": "code",
      "source": [],
      "metadata": {
        "id": "6Zk2MpMw8rQc"
      },
      "execution_count": null,
      "outputs": []
    },
    {
      "cell_type": "code",
      "source": [],
      "metadata": {
        "id": "NnoKkoWb8rTQ"
      },
      "execution_count": null,
      "outputs": []
    },
    {
      "cell_type": "markdown",
      "source": [
        "*A continuación te mostraremos lo que no puede realizarse con* `append`."
      ],
      "metadata": {
        "id": "IVJvkTwNUk6M"
      }
    },
    {
      "cell_type": "code",
      "source": [],
      "metadata": {
        "id": "u3Eub2ZL8pp3"
      },
      "execution_count": null,
      "outputs": []
    },
    {
      "cell_type": "code",
      "source": [],
      "metadata": {
        "id": "tsKK5Ne58pvN"
      },
      "execution_count": null,
      "outputs": []
    },
    {
      "cell_type": "markdown",
      "source": [
        "#### [`remove()`](https://docs.python.org/3/tutorial/datastructures.html#:~:text=append(x).-,list.remove(x),-Remove%20the%20first)\n",
        "\n",
        "Remueve un elemento específico de la lista."
      ],
      "metadata": {
        "id": "dPGM5gpyUX1z"
      }
    },
    {
      "cell_type": "code",
      "source": [],
      "metadata": {
        "id": "mmboODPc8nd5"
      },
      "execution_count": null,
      "outputs": []
    },
    {
      "cell_type": "code",
      "source": [],
      "metadata": {
        "id": "T_w6vVgV8nh_"
      },
      "execution_count": null,
      "outputs": []
    },
    {
      "cell_type": "markdown",
      "source": [
        "## Diccionario"
      ],
      "metadata": {
        "id": "Rc22Vc08YDZ2"
      }
    },
    {
      "cell_type": "markdown",
      "source": [
        "Los diccionarios son un tipo de estructura de datos que almacenan pares de *llave-valor*. Estos son delimitados por llaves `{}` y los pares *llave-valor* son separados por comas.\n",
        "\n",
        "```\n",
        "diccionario = {llave: valor}\n",
        "```\n",
        "\n",
        "La **llave** es un elemento único que identifica a un valor en el diccionario, mientras que el **valor** es el item que será almacenado para la llave. Las llaves y sus respectivos valores se pueden emplear para **cualquier tipo de dato**.\n",
        "\n",
        "Los diccionarios son útiles para almacenar y acceder a los datos de manera organizada y rápida. Se trata de un tipo de conjunto de elementos en Python, pues almacenan una colección de items."
      ],
      "metadata": {
        "id": "PJ-cCKPjeWxL"
      }
    },
    {
      "cell_type": "code",
      "source": [],
      "metadata": {
        "id": "NDHhzooE8ld5"
      },
      "execution_count": null,
      "outputs": []
    },
    {
      "cell_type": "code",
      "source": [],
      "metadata": {
        "id": "AVOzqzy-8lhh"
      },
      "execution_count": null,
      "outputs": []
    },
    {
      "cell_type": "markdown",
      "source": [
        "---\n",
        "**Situación:**\n",
        "\n",
        "Vamos a crear un conjunto de datos con las informaciones de matrícula de un estudiante. Los datos son los siguientes:\n",
        "\n",
        "- matrícula: 2000168933\n",
        "- día de registro: 25\n",
        "- mes de registro: 10\n",
        "- grupo: 2E"
      ],
      "metadata": {
        "id": "_JbQ3KMKfkXU"
      }
    },
    {
      "cell_type": "code",
      "source": [],
      "metadata": {
        "id": "0lfOu_c38jED"
      },
      "execution_count": null,
      "outputs": []
    },
    {
      "cell_type": "code",
      "source": [],
      "metadata": {
        "id": "XIuqpTTy8jHV"
      },
      "execution_count": null,
      "outputs": []
    },
    {
      "cell_type": "markdown",
      "source": [
        "Es posible sustituir los valores dentro de una llave. Por ejemplo, recibimos la información de que el grupo del estudiante que registramos cambio a `'2G'` y ahora necesitamos cambiar el valor de la llave `'grupo'`."
      ],
      "metadata": {
        "id": "8ex5pt2ykDd2"
      }
    },
    {
      "cell_type": "code",
      "source": [],
      "metadata": {
        "id": "kQGlp36b8fyP"
      },
      "execution_count": null,
      "outputs": []
    },
    {
      "cell_type": "code",
      "source": [],
      "metadata": {
        "id": "DnfH_qHi8f17"
      },
      "execution_count": null,
      "outputs": []
    },
    {
      "cell_type": "markdown",
      "source": [
        "También podemos añadir otros datos al diccionario. Vamos a añadir la información sobre la modalidad de estudio, nuestro estudiante estudiará inicialemente en la modalidad EAD.\n",
        "\n",
        "Definiremos una llave llamada `'modalidad'` con el valor `'EAD'`."
      ],
      "metadata": {
        "id": "wB0qRb56mQvv"
      }
    },
    {
      "cell_type": "code",
      "source": [],
      "metadata": {
        "id": "EeLYdlIm8d8a"
      },
      "execution_count": null,
      "outputs": []
    },
    {
      "cell_type": "code",
      "source": [],
      "metadata": {
        "id": "olDIavsm8d_o"
      },
      "execution_count": null,
      "outputs": []
    },
    {
      "cell_type": "markdown",
      "source": [
        "## Profundizando en diccionarios"
      ],
      "metadata": {
        "id": "LJ3o_inroxg_"
      }
    },
    {
      "cell_type": "markdown",
      "source": [
        "#### [`pop()`](https://python-reference.readthedocs.io/en/latest/docs/dict/pop.html)\n",
        "Remueve un item de un diccionario y lo representa en la salida."
      ],
      "metadata": {
        "id": "2N3GLlkSpBiu"
      }
    },
    {
      "cell_type": "code",
      "source": [],
      "metadata": {
        "id": "ZsSCZx6G8b-T"
      },
      "execution_count": null,
      "outputs": []
    },
    {
      "cell_type": "code",
      "source": [],
      "metadata": {
        "id": "7lQ8_jpi8cBR"
      },
      "execution_count": null,
      "outputs": []
    },
    {
      "cell_type": "markdown",
      "source": [
        "#### [`items()`](https://python-reference.readthedocs.io/en/latest/docs/dict/items.html)\n",
        "Retorna una lista de pares `llave-valor` del diccionario."
      ],
      "metadata": {
        "id": "sYZGvJJYrW_y"
      }
    },
    {
      "cell_type": "code",
      "source": [],
      "metadata": {
        "id": "ncdycLV08an7"
      },
      "execution_count": null,
      "outputs": []
    },
    {
      "cell_type": "markdown",
      "source": [
        "#### [`keys()`](https://python-reference.readthedocs.io/en/latest/docs/dict/keys.html)\n",
        "Retorna una lista de las llaves del diccionario."
      ],
      "metadata": {
        "id": "Lb0utNFGrZBY"
      }
    },
    {
      "cell_type": "code",
      "source": [],
      "metadata": {
        "id": "eZo0biaM8ZVs"
      },
      "execution_count": null,
      "outputs": []
    },
    {
      "cell_type": "markdown",
      "source": [
        "#### [`values()`](https://python-reference.readthedocs.io/en/latest/docs/dict/values.html)\n",
        "Retorna una lista de los valores del diccionario."
      ],
      "metadata": {
        "id": "qKyu3bf9rbtX"
      }
    },
    {
      "cell_type": "code",
      "source": [],
      "metadata": {
        "id": "-NxRT9C18Yvo"
      },
      "execution_count": null,
      "outputs": []
    },
    {
      "cell_type": "markdown",
      "source": [
        "### Lectura de valores con el lazo `for`"
      ],
      "metadata": {
        "id": "e3XVjR8Frp75"
      }
    },
    {
      "cell_type": "code",
      "source": [],
      "metadata": {
        "id": "NYcjU-Ip8Xan"
      },
      "execution_count": null,
      "outputs": []
    },
    {
      "cell_type": "code",
      "source": [],
      "metadata": {
        "id": "aAnpP1Wv8XfJ"
      },
      "execution_count": null,
      "outputs": []
    },
    {
      "cell_type": "markdown",
      "source": [
        "#  M02. **Desafío:** Manipulando datos en python"
      ],
      "metadata": {
        "id": "2jQnb4I1CjSX"
      }
    },
    {
      "cell_type": "markdown",
      "source": [
        "\n",
        "1 - Crea un programa que solicite al usuario que escriba su nombre y luego imprima \"Hola, [nombre].\"\n",
        "\n"
      ],
      "metadata": {
        "id": "_ucmu7EWDIBw"
      }
    },
    {
      "cell_type": "code",
      "source": [
        "usuario = input(\"ingresa tu nombre por favor: \")\n",
        "\n",
        "print(f\"hola, {usuario}\")"
      ],
      "metadata": {
        "id": "JXHw9fukDLjZ",
        "outputId": "9a04ec12-4e39-443a-9063-ab43f2256305",
        "colab": {
          "base_uri": "https://localhost:8080/"
        }
      },
      "execution_count": null,
      "outputs": [
        {
          "output_type": "stream",
          "name": "stdout",
          "text": [
            "ingresa tu nombre por favor: fabri\n",
            "hola, fabri\n"
          ]
        }
      ]
    },
    {
      "cell_type": "markdown",
      "source": [
        "2 - Crea un programa que solicite al usuario que escriba su nombre y edad, y luego imprima \"Hola, [nombre], tienes [edad] años.\""
      ],
      "metadata": {
        "id": "DEUu6TJ8Es-l"
      }
    },
    {
      "cell_type": "code",
      "source": [
        "nombre = input(\"nombre: \")\n",
        "edad = input(\"edad: \")\n",
        "\n",
        "print(f\"Hola, {nombre} tienes {edad} años\")"
      ],
      "metadata": {
        "id": "YemcKKqHD2yl",
        "outputId": "60ae7a88-60ec-47ec-b47a-806a1ac06bdd",
        "colab": {
          "base_uri": "https://localhost:8080/"
        }
      },
      "execution_count": null,
      "outputs": [
        {
          "output_type": "stream",
          "name": "stdout",
          "text": [
            "nombre: fla\n",
            "edad: 24\n",
            "Hola, fla tienes 24 años\n"
          ]
        }
      ]
    },
    {
      "cell_type": "markdown",
      "source": [
        "3 - Crea un programa que solicite al usuario que escriba su nombre, edad y altura en metros, y luego imprima \"Hola, [nombre], tienes [edad] años y mides [altura] metros.\""
      ],
      "metadata": {
        "id": "Ihj_XBmEGLNh"
      }
    },
    {
      "cell_type": "code",
      "source": [
        "nombre = str(input(\"nombre: \"))\n",
        "edad = int(input(\"edad: \"))\n",
        "altura = float(input(\"altura: \"))\n",
        "\n",
        "print(f\"Hola {nombre}, tienes {edad} años y mides {altura} metros\")"
      ],
      "metadata": {
        "id": "gK5nRCx_GVIu",
        "colab": {
          "base_uri": "https://localhost:8080/"
        },
        "outputId": "4609521f-79e7-412e-ddc9-619152398a22"
      },
      "execution_count": null,
      "outputs": [
        {
          "output_type": "stream",
          "name": "stdout",
          "text": [
            "nombre: fla\n",
            "edad: 24\n",
            "altura: 1.77\n",
            "Hola fla, tienes 24 años y mides 1.77 metros\n"
          ]
        }
      ]
    },
    {
      "cell_type": "markdown",
      "source": [
        "**Calculadora con operadores**"
      ],
      "metadata": {
        "id": "2tux5ZiaGVu3"
      }
    },
    {
      "cell_type": "markdown",
      "source": [
        "4 - Crea un programa que solicite dos valores numéricos al usuario y luego imprima la suma de ambos valores."
      ],
      "metadata": {
        "id": "XcaLdlP-Gly5"
      }
    },
    {
      "cell_type": "code",
      "source": [
        "valor_n1 = int(input(\"escribe un n° entero: \"))\n",
        "valor_n2 = int(input(\"escribe un n° entero: \"))\n",
        "\n",
        "sum_valores = valor_n1 + valor_n2\n",
        "\n",
        "print(f\"la suma de los  valores es: {sum_valores}\")"
      ],
      "metadata": {
        "id": "wn9Cg2DyGmmh",
        "colab": {
          "base_uri": "https://localhost:8080/"
        },
        "outputId": "091d1586-a3ef-47b4-b273-882243a8a242"
      },
      "execution_count": null,
      "outputs": [
        {
          "output_type": "stream",
          "name": "stdout",
          "text": [
            "escribe un n° entero: 10\n",
            "escribe un n° entero: 30\n",
            "la suma de los  valores es: 40\n"
          ]
        }
      ]
    },
    {
      "cell_type": "markdown",
      "source": [
        "5 - Crea un programa que solicite tres valores numéricos al usuario y luego imprima la suma de los tres valores."
      ],
      "metadata": {
        "id": "baGH8xcPGnbs"
      }
    },
    {
      "cell_type": "code",
      "source": [
        "val_n1 = int(input(\"escribe un n° entero: \"))\n",
        "val_n2 = int(input(\"escribe un n° entero: \"))\n",
        "val_n3 = int(input(\"escribe un n° entero: \"))\n",
        "\n",
        "sum_valores =  valor_n1 + val_n2 + val_n3\n",
        "\n",
        "print(f\"la suma de los  valores numericos enteros es: {sum_valores}\")"
      ],
      "metadata": {
        "id": "MfY4l6-NGrwJ",
        "colab": {
          "base_uri": "https://localhost:8080/"
        },
        "outputId": "ee7b3e4a-ef62-4617-c356-726f0022825a"
      },
      "execution_count": null,
      "outputs": [
        {
          "output_type": "stream",
          "name": "stdout",
          "text": [
            "escribe un n° entero: 10\n",
            "escribe un n° entero: 10\n",
            "escribe un n° entero: 10\n",
            "la suma de los  valores numericos enteros es: 30\n"
          ]
        }
      ]
    },
    {
      "cell_type": "markdown",
      "source": [
        "6 - Crea un programa que solicite dos valores numéricos al usuario y luego imprima la resta del primero menos el segundo valor."
      ],
      "metadata": {
        "id": "X2aMBksJGs8F"
      }
    },
    {
      "cell_type": "code",
      "source": [
        "val_1 = int(input(\"Escribe un n° entero: \"))\n",
        "val_2 = int(input(\"Escribe un n° entero: \"))\n",
        "\n",
        "resta_val = val_1 - val_2\n",
        "\n",
        "print(f\"la resta de los valores es: {resta_val}\")"
      ],
      "metadata": {
        "id": "jg8RbCc0GxJV",
        "colab": {
          "base_uri": "https://localhost:8080/"
        },
        "outputId": "5e1a291a-61a8-462a-f37f-f8b81c401201"
      },
      "execution_count": null,
      "outputs": [
        {
          "output_type": "stream",
          "name": "stdout",
          "text": [
            "Escribe un n° entero: 30\n",
            "Escribe un n° entero: 10\n",
            "la resta de los valores es: 20\n"
          ]
        }
      ]
    },
    {
      "cell_type": "markdown",
      "source": [
        "7 - Crea un programa que solicite dos valores numéricos al usuario y luego imprima la multiplicación de los dos valores."
      ],
      "metadata": {
        "id": "t1YzvW6_GyPs"
      }
    },
    {
      "cell_type": "code",
      "source": [
        "val_1 = int(input(\"Escriba un n° entero: \"))\n",
        "val_2 = int(input(\"Escriba un n° entero: \"))\n",
        "\n",
        "multiplicacion = val_1 * val_2\n",
        "\n",
        "print(f\"La multiplicacion de los valores es: {multiplicacion}\")"
      ],
      "metadata": {
        "id": "FqJX3UGAG2bn",
        "colab": {
          "base_uri": "https://localhost:8080/"
        },
        "outputId": "c6b3aaaa-201a-4c00-9b00-156dca4f1924"
      },
      "execution_count": null,
      "outputs": [
        {
          "output_type": "stream",
          "name": "stdout",
          "text": [
            "Escriba un n° entero: 10\n",
            "Escriba un n° entero: 10\n",
            "La multiplicacion de los valores es: 100\n"
          ]
        }
      ]
    },
    {
      "cell_type": "markdown",
      "source": [
        "8 - Crea un programa que solicite dos valores numéricos, un numerador y un denominador, y realice la división entre los dos valores. Asegúrate de que el valor del denominador no sea igual a 0."
      ],
      "metadata": {
        "id": "0nLl9noxG3K9"
      }
    },
    {
      "cell_type": "code",
      "source": [
        "numerador = int(input(\"Escribe un numerador(debe ser n° entero): \"))\n",
        "denominador = int(input(\"Escribe un denomniador(debe ser n° entero):\"))\n",
        "division = numerador / denominador\n",
        "\n",
        "if division == 0:\n",
        "  print(\"El denominador no puede ser igual a 0\")\n",
        "else:\n",
        "  print(f\"La division de los numeros es: {division}\")"
      ],
      "metadata": {
        "id": "HxT52KihG7x_",
        "colab": {
          "base_uri": "https://localhost:8080/"
        },
        "outputId": "c1638521-d097-411e-dce6-206a4fc68ef7"
      },
      "execution_count": null,
      "outputs": [
        {
          "output_type": "stream",
          "name": "stdout",
          "text": [
            "Escribe un numerador(debe ser n° entero): 20\n",
            "Escribe un denomniador(debe ser n° entero):10\n",
            "La division de los numeros es: 2.0\n"
          ]
        }
      ]
    },
    {
      "cell_type": "markdown",
      "source": [
        "9 - Crea un programa que solicite dos valores numéricos, un operador y una potencia, y realice la exponenciación entre estos dos valores."
      ],
      "metadata": {
        "id": "-fZZ0hIRG8k6"
      }
    },
    {
      "cell_type": "code",
      "source": [
        "operador = int(input(\"Escibre un operador(debe ser n° entero): \"))\n",
        "potencia = int(input(\"Escibre una potencia(debe ser n° entero): \"))\n",
        "\n",
        "exponenciacion = operador * potencia\n",
        "\n",
        "print(f\"La exponenciacion es: {exponenciacion}\")"
      ],
      "metadata": {
        "id": "SdTIIjZdHAXl",
        "colab": {
          "base_uri": "https://localhost:8080/"
        },
        "outputId": "f7f1f776-486e-4f1f-d385-a4b8ed2c583e"
      },
      "execution_count": null,
      "outputs": [
        {
          "output_type": "stream",
          "name": "stdout",
          "text": [
            "Escibre un operador(debe ser n° entero): 10\n",
            "Escibre una potencia(debe ser n° entero): 5\n",
            "La exponenciacion es: 50\n"
          ]
        }
      ]
    },
    {
      "cell_type": "markdown",
      "source": [
        "10 - Crea un programa que solicite dos valores numéricos, un numerador y un denominador, y realice la división entera entre los dos valores. Asegúrate de que el valor del denominador no sea igual a 0."
      ],
      "metadata": {
        "id": "JXvEL9wtHBXz"
      }
    },
    {
      "cell_type": "code",
      "source": [
        "numerador = int(input(\"Escribe un numerador(debe ser n° entero): \"))\n",
        "denominador = int(input(\"Escribe un denomniador(debe ser n° entero):\"))\n",
        "division = numerador / denominador\n",
        "\n",
        "if division == 0:\n",
        "  print(\"El denominador no puede ser igual a 0\")\n",
        "else:\n",
        "  print(f\"La division de los numeros es: {division}\")"
      ],
      "metadata": {
        "id": "UQrEbrsrHEg2",
        "colab": {
          "base_uri": "https://localhost:8080/"
        },
        "outputId": "35094d53-2392-4ddd-c2fa-9b6e65b2b24e"
      },
      "execution_count": null,
      "outputs": [
        {
          "output_type": "stream",
          "name": "stdout",
          "text": [
            "Escribe un numerador(debe ser n° entero): 8\n",
            "Escribe un denomniador(debe ser n° entero):2\n",
            "La division de los numeros es: 4.0\n"
          ]
        }
      ]
    },
    {
      "cell_type": "markdown",
      "source": [
        "11 - Crea un programa que solicite dos valores numéricos, un numerador y un denominador, y devuelva el resto de la división entre los dos valores. Asegúrate de que el valor del denominador no sea igual a 0."
      ],
      "metadata": {
        "id": "MybT-pKKHFV3"
      }
    },
    {
      "cell_type": "code",
      "source": [
        "numerador = int(input(\"Escribe un numerador(debe ser n° entero): \"))\n",
        "denominador = int(input(\"Escribe un denomniador(debe ser n° entero):\"))\n",
        "division = numerador % denominador\n",
        "\n",
        "if division == 0:\n",
        "  print(\"El denominador no puede ser igual a 0\")\n",
        "else:\n",
        "  print(f\"La division de los numeros es: {division}\")"
      ],
      "metadata": {
        "id": "pwhE22uRHKgG",
        "colab": {
          "base_uri": "https://localhost:8080/"
        },
        "outputId": "59da8503-1adc-4ee2-c681-c8daa65c838f"
      },
      "execution_count": null,
      "outputs": [
        {
          "output_type": "stream",
          "name": "stdout",
          "text": [
            "Escribe un numerador(debe ser n° entero): 25\n",
            "Escribe un denomniador(debe ser n° entero):12\n",
            "La division de los numeros es: 1\n"
          ]
        }
      ]
    },
    {
      "cell_type": "markdown",
      "source": [
        "12 - Crea un código que solicite las 3 notas de un estudiante e imprima el promedio de las notas."
      ],
      "metadata": {
        "id": "p0pRk7y2HLSz"
      }
    },
    {
      "cell_type": "code",
      "source": [
        "nota_Q1 = int(input(\"Escribe la nota del primer trimestre: \"))\n",
        "nota_Q2 =  int(input(\"Escribe la nota del segundo trimestre: \"))\n",
        "nota_Q3 =  int(input(\"Escribe la nota del tercer trimestre: \"))\n",
        "\n",
        "sum_notas = nota_Q1 + nota_Q2 + nota_Q3\n",
        "promedio = sum_notas / 3\n",
        "\n",
        "print(f\"El promedio anual de notas del estudiante es: {promedio}\")"
      ],
      "metadata": {
        "id": "J31IbFCoHOTq",
        "colab": {
          "base_uri": "https://localhost:8080/"
        },
        "outputId": "4bb790ce-b8e9-43be-b6b2-d8d3e773c7ec"
      },
      "execution_count": null,
      "outputs": [
        {
          "output_type": "stream",
          "name": "stdout",
          "text": [
            "Escribe la nota del primer trimestre: 10\n",
            "Escribe la nota del segundo trimestre: 5\n",
            "Escribe la nota del tercer trimestre: 6\n",
            "El promedio anual de notas del estudiante es: 7.0\n"
          ]
        }
      ]
    },
    {
      "cell_type": "markdown",
      "source": [
        "13 - Crea un código que calcule e imprima el promedio ponderado de los números 5, 12, 20 y 15 con pesos respectivamente iguales a 1, 2, 3 y 4."
      ],
      "metadata": {
        "id": "6EEkgAIjHPMN"
      }
    },
    {
      "cell_type": "code",
      "source": [
        "nota1 = 5*1\n",
        "nota2 = 12*2\n",
        "nota3 = 20*3\n",
        "nota4 = 15*4\n",
        "\n",
        "total_notas = nota1 + nota2 + nota3 + nota4\n",
        "\n",
        "pesos  = 1+2+3+4\n",
        "\n",
        "promedio_ponderado =  total_notas / pesos\n",
        "\n",
        "print(f\"el promedio de las notas es: {promedio_ponderado}\")"
      ],
      "metadata": {
        "id": "-HD3AxzBHSR4",
        "colab": {
          "base_uri": "https://localhost:8080/"
        },
        "outputId": "36144ced-7be3-4198-e7f5-95bb86e40962"
      },
      "execution_count": null,
      "outputs": [
        {
          "output_type": "stream",
          "name": "stdout",
          "text": [
            "el promedio de las notas es: 14.9\n"
          ]
        }
      ]
    },
    {
      "cell_type": "markdown",
      "source": [
        "**Forma mas profesional**"
      ],
      "metadata": {
        "id": "lNODioiQTUMl"
      }
    },
    {
      "cell_type": "code",
      "source": [
        "#Se encierrar en listas\n",
        "notas = [5, 12, 20, 15]\n",
        "pesoss = [1, 2, 3, 4]\n",
        "\n",
        "#Calculamos el total ponderado\n",
        "total_ponderado = sum(nota * peso for  nota, peso in zip(notas, pesoss))\n",
        "\n",
        "#Se calcula la suma total de los pesos\n",
        "suma_pesos = sum(pesoss)\n",
        "\n",
        "#Calculamos el promedio ponderado\n",
        "promedio_ponder = total_ponderado / suma_pesos\n",
        "\n",
        "print(f\"el promedio ponderado  de las notas es: {promedio_ponder}\")\n",
        "\n"
      ],
      "metadata": {
        "colab": {
          "base_uri": "https://localhost:8080/"
        },
        "id": "s7TWnlGPTYtL",
        "outputId": "9ba12029-afb8-4b6e-8a72-0ad5763b63a5"
      },
      "execution_count": null,
      "outputs": [
        {
          "output_type": "stream",
          "name": "stdout",
          "text": [
            "el promedio ponderado  de las notas es: 14.9\n"
          ]
        }
      ]
    },
    {
      "cell_type": "markdown",
      "source": [
        "**Editando textos**"
      ],
      "metadata": {
        "id": "4CVoQJg7HTNf"
      }
    },
    {
      "cell_type": "markdown",
      "source": [
        "14 - Crea una variable llamada \"frase\" y asígnale una cadena de texto de tu elección. Luego, imprime la frase en pantalla."
      ],
      "metadata": {
        "id": "tjaSOnzsHp9M"
      }
    },
    {
      "cell_type": "code",
      "source": [
        "frase = \"la vida es una carnal\"\n",
        "\n",
        "print(frase)"
      ],
      "metadata": {
        "id": "4SVHQTCiHqdP",
        "colab": {
          "base_uri": "https://localhost:8080/"
        },
        "outputId": "47c2a9ef-f89a-4884-eecc-418044b198c1"
      },
      "execution_count": null,
      "outputs": [
        {
          "output_type": "stream",
          "name": "stdout",
          "text": [
            "la vida es una carnal\n"
          ]
        }
      ]
    },
    {
      "cell_type": "markdown",
      "source": [
        "15 - Crea un código que solicite una frase y luego imprima la frase en pantalla."
      ],
      "metadata": {
        "id": "FO_eIVlAHsBu"
      }
    },
    {
      "cell_type": "code",
      "source": [
        "usuario11 = input(\"Escribe una frase por favor: \")"
      ],
      "metadata": {
        "colab": {
          "base_uri": "https://localhost:8080/"
        },
        "id": "1YXtC5QJXNC0",
        "outputId": "dd709346-83f1-4501-a52a-b4a5063eb12b"
      },
      "execution_count": null,
      "outputs": [
        {
          "name": "stdout",
          "output_type": "stream",
          "text": [
            "Escribe una frase por favor: la entropia no es una regulacion termica, es un estado de disipacion de la energia\n"
          ]
        }
      ]
    },
    {
      "cell_type": "markdown",
      "source": [
        "6 - Crea un código que solicite una frase al usuario y luego imprima la misma frase ingresada pero en mayúsculas."
      ],
      "metadata": {
        "id": "Pfm7FRwIHxBr"
      }
    },
    {
      "cell_type": "code",
      "source": [
        "usuario12 = input(\"Escribe una frase: \")\n",
        "frase__ = usuario12.upper()\n",
        "\n",
        "print(frase__)"
      ],
      "metadata": {
        "id": "8rVoRnZ3H0UR",
        "colab": {
          "base_uri": "https://localhost:8080/"
        },
        "outputId": "c6a25bb5-0384-48c9-d2a7-5650563b2b90"
      },
      "execution_count": null,
      "outputs": [
        {
          "output_type": "stream",
          "name": "stdout",
          "text": [
            "Escribe una frase: hola\n",
            "HOLA\n"
          ]
        }
      ]
    },
    {
      "cell_type": "markdown",
      "source": [
        "17 - Crea un código que solicite una frase al usuario y luego imprima la misma frase ingresada pero en minúsculas."
      ],
      "metadata": {
        "id": "LS4DnDlvH1U9"
      }
    },
    {
      "cell_type": "code",
      "source": [
        "usuario13 = input(\"Escribe una frase: \")\n",
        "frase1 = usuario13.lower()\n",
        "\n",
        "print(frase1)"
      ],
      "metadata": {
        "id": "OaLVfUkjH4JN",
        "colab": {
          "base_uri": "https://localhost:8080/"
        },
        "outputId": "9a653db2-bd55-4336-c20d-46380761a03e"
      },
      "execution_count": null,
      "outputs": [
        {
          "output_type": "stream",
          "name": "stdout",
          "text": [
            "Escribe una frase: DAALEE BOOOOCA\n",
            "daalee booooca\n"
          ]
        }
      ]
    },
    {
      "cell_type": "markdown",
      "source": [
        "18 - Crea una variable llamada \"frase\" y asígnale una cadena de texto de tu elección. Luego, imprime la frase sin espacios en blanco al principio y al final."
      ],
      "metadata": {
        "id": "eaNyS6WWH4_d"
      }
    },
    {
      "cell_type": "code",
      "source": [
        "frase4 = \"    Tres tristes tigres comen trigo en un trigal     \"\n",
        "print(frase4)"
      ],
      "metadata": {
        "id": "lYMwz9RQH8y7",
        "colab": {
          "base_uri": "https://localhost:8080/"
        },
        "outputId": "341d8c60-2705-46b9-ebce-c177996de61b"
      },
      "execution_count": null,
      "outputs": [
        {
          "output_type": "stream",
          "name": "stdout",
          "text": [
            "    Tres tristes tigres comen trigo en un trigal     \n"
          ]
        }
      ]
    },
    {
      "cell_type": "code",
      "source": [
        "frase4 = \"    Tres tristes tigres comen trigo en un trigal     \"\n",
        "print(frase4.strip())"
      ],
      "metadata": {
        "colab": {
          "base_uri": "https://localhost:8080/"
        },
        "id": "mSS_6Twydck4",
        "outputId": "50aa7741-6dae-48b8-a0a3-e9b86752cb1a"
      },
      "execution_count": null,
      "outputs": [
        {
          "output_type": "stream",
          "name": "stdout",
          "text": [
            "Tres tristes tigres comen trigo en un trigal\n"
          ]
        }
      ]
    },
    {
      "cell_type": "markdown",
      "source": [
        "19 - Crea un código que solicite una frase al usuario y luego imprima la misma frase sin espacios en blanco al principio y al final."
      ],
      "metadata": {
        "id": "GKyLInDiH9xb"
      }
    },
    {
      "cell_type": "code",
      "source": [
        "usuario15 = input(\"Escribe una frase: \")\n",
        "\n",
        "print(usuario15.strip())"
      ],
      "metadata": {
        "id": "o8alEMx4IGtv",
        "colab": {
          "base_uri": "https://localhost:8080/"
        },
        "outputId": "346360fd-ec9f-41c7-9c1e-a4ba86e8cbea"
      },
      "execution_count": null,
      "outputs": [
        {
          "output_type": "stream",
          "name": "stdout",
          "text": [
            "Escribe una frase:              Hoooolaaaaaaaaa           \n",
            "Hoooolaaaaaaaaa\n"
          ]
        }
      ]
    },
    {
      "cell_type": "markdown",
      "source": [
        "20 - Crea un código que solicite una frase al usuario y luego imprima la misma frase sin espacios en blanco al principio y al final, además de convertirla a minúsculas."
      ],
      "metadata": {
        "id": "Y042R4bOIHP4"
      }
    },
    {
      "cell_type": "code",
      "source": [
        "usuario16 = input(\"Escribe una frase: \")\n",
        "print(usuario16.lower().strip())"
      ],
      "metadata": {
        "id": "Z0QlAAbrIHyj",
        "colab": {
          "base_uri": "https://localhost:8080/"
        },
        "outputId": "ba058748-99f8-4a59-fe2c-a664b8a70a63"
      },
      "execution_count": null,
      "outputs": [
        {
          "output_type": "stream",
          "name": "stdout",
          "text": [
            "Escribe una frase:    HOOOLAA     \n",
            "hooolaa\n"
          ]
        }
      ]
    },
    {
      "cell_type": "markdown",
      "source": [
        "21 - Crea un código que solicite una frase al usuario y luego imprima la misma frase con todas las vocales \"e\" reemplazadas por la letra \"f\"."
      ],
      "metadata": {
        "id": "rNHpWWyBIIil"
      }
    },
    {
      "cell_type": "code",
      "source": [
        "usuario17 = input(\"Escribe una frase: \")\n",
        "print(usuario17.replace(\"e\",  \"f\"))"
      ],
      "metadata": {
        "id": "8Fet1peHILLj",
        "colab": {
          "base_uri": "https://localhost:8080/"
        },
        "outputId": "7b6431d0-dbd6-4d3c-b3c1-42dcac8eb965"
      },
      "execution_count": null,
      "outputs": [
        {
          "output_type": "stream",
          "name": "stdout",
          "text": [
            "Escribe una frase: veremos el este en  el verano este\n",
            "vfrfmos fl fstf fn  fl vfrano fstf\n"
          ]
        }
      ]
    },
    {
      "cell_type": "markdown",
      "source": [
        "22 - Crea un código que solicite una frase al usuario y luego imprima la misma frase con todas las vocales \"a\" reemplazadas por el carácter \"@\"."
      ],
      "metadata": {
        "id": "QJ6YUH_MIRnB"
      }
    },
    {
      "cell_type": "code",
      "source": [
        "usuario18 = input(\"Escribe una frase: \")\n",
        "print(usuario18.lower().replace(\"a\",  \"@\"))"
      ],
      "metadata": {
        "id": "UIKOxQj4ISCk",
        "colab": {
          "base_uri": "https://localhost:8080/"
        },
        "outputId": "ffc935d8-9e1f-40c4-9fbe-3afe72ecf4b7"
      },
      "execution_count": null,
      "outputs": [
        {
          "output_type": "stream",
          "name": "stdout",
          "text": [
            "Escribe una frase: AHORA VAMOS A LA PLAYA PARAPAPAYA\n",
            "@hor@ v@mos @ l@ pl@y@ p@r@p@p@y@\n"
          ]
        }
      ]
    },
    {
      "cell_type": "markdown",
      "source": [
        "23 - Crea un código que solicite una frase al usuario y luego imprima la misma frase con todas las consonantes \"s\" reemplazadas por el carácter \"$\"."
      ],
      "metadata": {
        "id": "331wnJc-IS7M"
      }
    },
    {
      "cell_type": "code",
      "source": [
        "usuario19 = input(\"Escribe una frase: \")\n",
        "print(usuario19.replace(\"s\",  \"$\"))"
      ],
      "metadata": {
        "id": "hIwtjv6LIWM6",
        "colab": {
          "base_uri": "https://localhost:8080/"
        },
        "outputId": "11676f30-7bea-4c09-f6d1-a849028f0985"
      },
      "execution_count": null,
      "outputs": [
        {
          "output_type": "stream",
          "name": "stdout",
          "text": [
            "Escribe una frase: pesos usuario19\n",
            "pe$o$ u$uario19\n"
          ]
        }
      ]
    },
    {
      "cell_type": "markdown",
      "source": [
        "# **M03. Desafio: Estructuras condicionales.**"
      ],
      "metadata": {
        "id": "6E9BuXhe99ng"
      }
    },
    {
      "cell_type": "markdown",
      "source": [
        "1 - Escribe un programa que pida a la persona usuaria que proporcione dos números y muestre el número más grande."
      ],
      "metadata": {
        "id": "hujFfCYK-f_x"
      }
    },
    {
      "cell_type": "code",
      "source": [
        "usuario_one = float(input(\"Escribe un numero: \"))\n",
        "usuario_two = float(input(\"Escribe otro numero: \"))\n",
        "\n",
        "if usuario_one > usuario_two:\n",
        "  print(f\"el numero mayor es: {usuario_one}\")\n",
        "elif usuario_two > usuario_one:\n",
        "  print(f\"el numero mayor es: {usuario_two}\")\n",
        "else:\n",
        "  print(\"Ambos numeros son iguales\")\n"
      ],
      "metadata": {
        "id": "9Kr5t68h-jWS",
        "outputId": "8894dc8f-1f1d-4209-a995-8b8cb64294c8",
        "colab": {
          "base_uri": "https://localhost:8080/"
        }
      },
      "execution_count": null,
      "outputs": [
        {
          "output_type": "stream",
          "name": "stdout",
          "text": [
            "Escribe un numero: 200\n",
            "Escribe otro numero: 500\n",
            "el numero mayor es: 500.0\n"
          ]
        }
      ]
    },
    {
      "cell_type": "markdown",
      "source": [
        "2 - Escribe un programa que solicite el porcentaje de crecimiento de producción de una empresa e informe si hubo un crecimiento (porcentaje positivo) o una disminución (porcentaje negativo)."
      ],
      "metadata": {
        "id": "mA9NrlMX-j7r"
      }
    },
    {
      "cell_type": "code",
      "source": [
        "usuario = int(input(\"Escribe el % de produccion de la empresa: \"))\n",
        "\n",
        "if usuario > 0:\n",
        "  print(\"% positivo\")\n",
        "elif usuario < 0:\n",
        "  print(\"% negarivo\")\n",
        "elif usuario == 0:\n",
        "  print(\"no hubo cambios\")"
      ],
      "metadata": {
        "id": "5TcxccAN-nF0",
        "colab": {
          "base_uri": "https://localhost:8080/"
        },
        "outputId": "c23331ba-f74b-4907-9d92-70a9b290d7bd"
      },
      "execution_count": null,
      "outputs": [
        {
          "output_type": "stream",
          "name": "stdout",
          "text": [
            "Escribe el % de produccion de la empresa: -1\n",
            "% negarivo\n"
          ]
        }
      ]
    },
    {
      "cell_type": "markdown",
      "source": [
        "3 - Escribe un programa que determine si una letra proporcionada por la persona usuaria es una vocal o una consonante."
      ],
      "metadata": {
        "id": "BRp7Go4x-nrE"
      }
    },
    {
      "cell_type": "code",
      "source": [
        "vocal = [\"a\", \"e\", \"i\", \"o\", \"u\"]\n",
        "\n",
        "usuario_ff = str(input(\"Escribe una letra: \")).lower()\n",
        "\n",
        "if usuario_ff in vocal:\n",
        "    print(f\"la letra {usuario_ff} es una vocal\")\n",
        "else:\n",
        "    print(f\"la letra {usuario_ff} es una consonante\")"
      ],
      "metadata": {
        "id": "mMAHnYcB-rAz",
        "colab": {
          "base_uri": "https://localhost:8080/"
        },
        "outputId": "7e76f25c-9686-4ec4-9e13-f3124d951ade"
      },
      "execution_count": null,
      "outputs": [
        {
          "output_type": "stream",
          "name": "stdout",
          "text": [
            "Escribe una letra: A\n",
            "la letra a es una vocal\n"
          ]
        }
      ]
    },
    {
      "cell_type": "markdown",
      "source": [
        "4 - Escribe un programa que lea valores promedio de precios de un modelo de automóvil durante 3 años consecutivos y muestre el valor más alto y más bajo entre esos tres años."
      ],
      "metadata": {
        "id": "Nmwi0jKG-rkN"
      }
    },
    {
      "cell_type": "code",
      "source": [
        "precio1 = float(input(\"Escribe el precio del primer año: \"))\n",
        "precio2 = float(input(\"Escribe el precio del segundo año: \"))\n",
        "precio3 = float(input(\"Escribe el precio del tercer año: \"))\n",
        "\n",
        "precios = [precio1, precio2, precio3]\n",
        "\n",
        "\n",
        "precio_maximo = max(precios)\n",
        "precio_minimo = min(precios)\n",
        "\n",
        "\n",
        "print(f\"El precio más alto fue: {precio_maximo}\")\n",
        "print(f\"El precio más bajo fue: {precio_minimo}\")\n"
      ],
      "metadata": {
        "id": "tMbEIf7_-vLc",
        "colab": {
          "base_uri": "https://localhost:8080/"
        },
        "outputId": "72e9eba1-68fa-4b95-9647-52fa3cb3a761"
      },
      "execution_count": null,
      "outputs": [
        {
          "output_type": "stream",
          "name": "stdout",
          "text": [
            "Escribe el precio del primer año: 10000\n",
            "Escribe el precio del segundo año: 200000\n",
            "Escribe el precio del tercer año: 5000000\n",
            "El precio más alto fue: 5000000.0\n",
            "El precio más bajo fue: 10000.0\n"
          ]
        }
      ]
    },
    {
      "cell_type": "markdown",
      "source": [
        "5 - Escribe un programa que pregunte sobre el precio de tres productos e indique cuál es el producto más barato para comprar."
      ],
      "metadata": {
        "id": "sk0k91oz-vx7"
      }
    },
    {
      "cell_type": "code",
      "source": [
        "producto_1 = int(input(\"Escribe el precio del 1° producto: \"))\n",
        "producto_2 = int(input(\"Escribe el precio del 2° producto: \"))\n",
        "producto_3 = int(input(\"Escribe el precio del 3° producto: \"))\n",
        "\n",
        "productos = [producto_1, producto_2, producto_3]\n",
        "\n",
        "producto_barato = min(productos)\n",
        "\n",
        "print(f\"el producto mas barato sale: {producto_barato} $\")"
      ],
      "metadata": {
        "id": "Tjhwv-Dh-yIs",
        "colab": {
          "base_uri": "https://localhost:8080/"
        },
        "outputId": "e6f373f9-ba7e-4d29-f8d7-d467af8b04a6"
      },
      "execution_count": null,
      "outputs": [
        {
          "output_type": "stream",
          "name": "stdout",
          "text": [
            "Escribe el precio del 1° producto: 800\n",
            "Escribe el precio del 2° producto: 400\n",
            "Escribe el precio del 3° producto: 1000\n",
            "el producto mas barato sale: 400 $\n"
          ]
        }
      ]
    },
    {
      "cell_type": "markdown",
      "source": [
        "6 - Escribe un programa que lea tres números y los muestre en orden descendente."
      ],
      "metadata": {
        "id": "PcoGsLqP-ysU"
      }
    },
    {
      "cell_type": "code",
      "source": [
        "nuum_1 = int(input(\"Escribe el 1° numero: \"))\n",
        "nuum_2 = int(input(\"Escribe el 2° numero: \"))\n",
        "nuum_3 = int(input(\"Escribe el 3° numero: \"))\n",
        "\n",
        "numeros =  [nuum_1,nuum_2,nuum_3]\n",
        "\n",
        "orden_desc = sorted(numeros, reverse=False)\n",
        "\n",
        "print(f\"devolucion numeros ordenados: {orden_desc}\")\n"
      ],
      "metadata": {
        "id": "dL3jDAu2-1Z7",
        "colab": {
          "base_uri": "https://localhost:8080/"
        },
        "outputId": "ed3fa649-8c4e-475b-9ffb-9817fae4e3f8"
      },
      "execution_count": null,
      "outputs": [
        {
          "output_type": "stream",
          "name": "stdout",
          "text": [
            "Escribe el 1° numero: 100\n",
            "Escribe el 2° numero: 50\n",
            "Escribe el 3° numero: 33\n",
            "devolucion numeros ordenados: [33, 50, 100]\n"
          ]
        }
      ]
    },
    {
      "cell_type": "markdown",
      "source": [
        "7 -Escribe un programa que pregunte en qué turno estudia la persona usuaria (\"mañana\", \"tarde\" o \"noche\") y muestre el mensaje \"¡Buenos Días!\", \"¡Buenas Tardes!\", \"¡Buenas Noches!\" o \"Valor Inválido!\", según el caso."
      ],
      "metadata": {
        "id": "SY62WR54-15W"
      }
    },
    {
      "cell_type": "code",
      "source": [
        "usuario_estudiante = input(\"Escriba el turno en el que estudia: \").lower()\n",
        "\n",
        "if usuario_estudiante == \"mañana\":\n",
        "  print(\"Buen dia!\")\n",
        "elif usuario_estudiante == \"tarde\":\n",
        "  print(\"Buenas tardes!\")\n",
        "elif usuario_estudiante == \"noche\":\n",
        "  print(\"Buenas noches!\")\n",
        "else:\n",
        "  print(\"Valor invalido\")"
      ],
      "metadata": {
        "id": "COfh82p5-6kb",
        "colab": {
          "base_uri": "https://localhost:8080/"
        },
        "outputId": "27d7f874-a553-45ef-b1be-dc492d4cae05"
      },
      "execution_count": null,
      "outputs": [
        {
          "output_type": "stream",
          "name": "stdout",
          "text": [
            "Escriba el turno en el que estudia: TarDe\n",
            "Buenas tardes!\n"
          ]
        }
      ]
    },
    {
      "cell_type": "markdown",
      "source": [
        "8 - Escribe un programa que solicite un número entero a la persona usuaria y determine si es par o impar. Pista: Puedes usar el operador módulo (%)."
      ],
      "metadata": {
        "id": "3800fg5p-7Ck"
      }
    },
    {
      "cell_type": "code",
      "source": [
        "usuario_33 = int(input(\"Escribe un numero entero: \"))\n",
        "\n",
        "if usuario_33 % 2 == 0:\n",
        "  print(\"es par\")\n",
        "else:\n",
        "  print(\"es impar\")\n"
      ],
      "metadata": {
        "id": "RdA9ZNCI-_YP",
        "colab": {
          "base_uri": "https://localhost:8080/"
        },
        "outputId": "09d1279d-007b-4d60-ea78-53d93b85158b"
      },
      "execution_count": null,
      "outputs": [
        {
          "output_type": "stream",
          "name": "stdout",
          "text": [
            "Escribe un numero entero: 7\n",
            "es impar\n"
          ]
        }
      ]
    },
    {
      "cell_type": "markdown",
      "source": [
        "9 - Escribe un programa que pida un número a la persona usuaria y le informe si es entero o decimal."
      ],
      "metadata": {
        "id": "w_TJwIfP_AD4"
      }
    },
    {
      "cell_type": "code",
      "source": [
        "usuario0 = float(input(\"Escribe un numero: \"))\n",
        "\n",
        "if usuario0 == int(usuario0):\n",
        "  print(f\"el n° {usuario0} es entero\")\n",
        "elif usuario0 == float(usuario0):\n",
        "  print(f\"el n° {usuario0} es decimal\")"
      ],
      "metadata": {
        "id": "K8AfeYBb_DIn",
        "colab": {
          "base_uri": "https://localhost:8080/"
        },
        "outputId": "57bd4322-948b-40da-eb17-6ad252573ffd"
      },
      "execution_count": null,
      "outputs": [
        {
          "output_type": "stream",
          "name": "stdout",
          "text": [
            "Escribe un numero: 2.2\n",
            "el n° 2.2 es decimal\n"
          ]
        }
      ]
    },
    {
      "cell_type": "markdown",
      "source": [
        "**proyectos**"
      ],
      "metadata": {
        "id": "ggOrHu9__Dp-"
      }
    },
    {
      "cell_type": "markdown",
      "source": [
        "10 - Un programa debe ser escrito para leer dos números y luego preguntar a la persona usuaria qué operación desea realizar. El resultado de la operación debe incluir información sobre el número, si es par o impar, positivo o negativo, e entero o decimal."
      ],
      "metadata": {
        "id": "_e8DLEV2_MnB"
      }
    },
    {
      "cell_type": "code",
      "source": [
        "num1 = float(input(\"Escribe el primer número: \"))\n",
        "num2 = float(input(\"Escribe el segundo número: \"))\n",
        "\n",
        "print(\"\\n¿Qué operación querés hacer?\")\n",
        "print(\"1 - Suma\")\n",
        "print(\"2 - Resta\")\n",
        "print(\"3 - Multiplicación\")\n",
        "print(\"4 - División\")\n",
        "\n",
        "opcion = input(\"Elegí una opción (1, 2, 3 o 4): \")\n",
        "\n",
        "\n",
        "if opcion == \"1\":\n",
        "    resultado = num1 + num2\n",
        "    operacion = \"suma\"\n",
        "elif opcion == \"2\":\n",
        "    resultado = num1 - num2\n",
        "    operacion = \"resta\"\n",
        "elif opcion == \"3\":\n",
        "    resultado = num1 * num2\n",
        "    operacion = \"multiplicación\"\n",
        "elif opcion == \"4\":\n",
        "    if num2 != 0:\n",
        "        resultado = num1 / num2\n",
        "        operacion = \"división\"\n",
        "    else:\n",
        "        print(\"Error: no se puede dividir por cero\")\n",
        "        exit()\n",
        "else:\n",
        "    print(\"Opción inválida\")\n",
        "    exit()\n",
        "\n",
        "\n",
        "print(f\"\\nEl resultado de la {operacion} es: {resultado}\")\n",
        "\n",
        "\n",
        "if resultado == int(resultado):\n",
        "    print(\"Es un número entero\")\n",
        "else:\n",
        "    print(\"Es un número decimal\")\n",
        "\n",
        "\n",
        "if resultado > 0:\n",
        "    print(\"Es un número positivo\")\n",
        "elif resultado < 0:\n",
        "    print(\"Es un número negativo\")\n",
        "else:\n",
        "    print(\"Es cero (ni positivo ni negativo)\")\n",
        "\n",
        "\n",
        "if resultado == int(resultado):\n",
        "    if int(resultado) % 2 == 0:\n",
        "        print(\"Es un número par\")\n",
        "    else:\n",
        "        print(\"Es un número impar\")\n",
        "else:\n",
        "    print(\"No se puede saber si es par o impar porque es decimal\")\n"
      ],
      "metadata": {
        "id": "iYXevUvv_TXB",
        "outputId": "abf62594-c37f-4ce7-97eb-1fdab0029730",
        "colab": {
          "base_uri": "https://localhost:8080/"
        }
      },
      "execution_count": null,
      "outputs": [
        {
          "output_type": "stream",
          "name": "stdout",
          "text": [
            "Escribe el primer número: 20\n",
            "Escribe el segundo número: 20\n",
            "\n",
            "¿Qué operación querés hacer?\n",
            "1 - Suma\n",
            "2 - Resta\n",
            "3 - Multiplicación\n",
            "4 - División\n",
            "Elegí una opción (1, 2, 3 o 4): 4\n",
            "\n",
            "El resultado de la división es: 1.0\n",
            "Es un número entero\n",
            "Es un número positivo\n",
            "Es un número impar\n"
          ]
        }
      ]
    },
    {
      "cell_type": "markdown",
      "source": [
        "11 - Escribe un programa que pida a la persona usuaria tres números que representan los lados de un triángulo. El programa debe informar si los valores pueden utilizarse para formar un triángulo y, en caso afirmativo, si es equilátero, isósceles o escaleno. Ten en cuenta algunas sugerencias:\n",
        "\n",
        "  - Tres lados forman un triángulo cuando la suma de cualesquiera dos lados es mayor que el tercero;\n",
        "  - Triángulo Equilátero: tres lados iguales;\n",
        "  - Triángulo Isósceles: dos lados iguales;\n",
        "  - Triángulo Escaleno: tres lados diferentes"
      ],
      "metadata": {
        "id": "Wg4E5xF9_T4I"
      }
    },
    {
      "cell_type": "code",
      "source": [
        "num1 = float(input(\"Escribe el primer número: \"))\n",
        "num2 = float(input(\"Escribe el segundo número: \"))\n",
        "num3 = float(input(\"Escribe el tercer número: \"))\n",
        "\n",
        "\n",
        "if num1 + num2 > num3 and num1 + num3 > num2 and num2 + num3 > num1:\n",
        "    print(\"¡Puede usarse para hacer un triángulo!\")\n",
        "\n",
        "\n",
        "    if num1 == num2 == num3:\n",
        "        print(\"Es un triángulo equilátero.\")\n",
        "    elif num1 == num2 or num1 == num3 or num2 == num3:\n",
        "        print(\"Es un triángulo isósceles.\")\n",
        "    else:\n",
        "        print(\"Es un triángulo escaleno.\")\n",
        "else:\n",
        "    print(\"No puede usarse para hacer un triángulo.\")\n",
        "\n"
      ],
      "metadata": {
        "id": "D_l_cJ93_XpU",
        "outputId": "081068aa-536e-4a14-d35d-1f2f08864d05",
        "colab": {
          "base_uri": "https://localhost:8080/"
        }
      },
      "execution_count": null,
      "outputs": [
        {
          "output_type": "stream",
          "name": "stdout",
          "text": [
            "Escribe el primer número: 6\n",
            "Escribe el segundo número: 3\n",
            "Escribe el tercer número: 9\n",
            "No puede usarse para hacer un triángulo.\n"
          ]
        }
      ]
    },
    {
      "cell_type": "markdown",
      "source": [
        "12 - Un establecimiento está vendiendo combustibles con descuentos variables. Para el etanol, si la cantidad comprada es de hasta 15 litros, el descuento será del 2% por litro. En caso contrario, será del 4% por litro. Para el diésel, si la cantidad comprada es de hasta 15 litros, el descuento será del 3% por litro. En caso contrario, será del 5% por litro. El precio por litro de diésel es de R$ 2,00 y el precio por litro de etanol es de R$ 1,70. Escribe un programa que lea la cantidad de litros vendidos y el tipo de combustible (E para etanol y D para diésel) y calcule el valor a pagar por el cliente. Ten en cuenta algunas sugerencias:\n",
        "\n",
        "  - El valor del descuento será el producto del precio por litro, la cantidad de litros y el valor del descuento.\n",
        "  - El valor a pagar por un cliente será el resultado de la multiplicación del precio por litro por la cantidad de litros menos el valor del descuento resultante del cálculo."
      ],
      "metadata": {
        "id": "kHyX6GyV_mrs"
      }
    },
    {
      "cell_type": "code",
      "source": [
        "precio_etanol = 1.70\n",
        "precio_diesel = 2.00\n",
        "\n",
        "litros = float(input(\"¿Cuántos litros desea cargar?: \"))\n",
        "\n",
        "combustible = input(\"¿Qué combustible desea? (E para Etanol / D para Diésel): \").upper()\n",
        "\n",
        "if combustible == \"E\":\n",
        "    # Calcular descuento según la cantidad\n",
        "    if litros <= 15:\n",
        "        descuento_por_litro = 0.02  # 2%\n",
        "    else:\n",
        "        descuento_por_litro = 0.04  # 4%\n",
        "\n",
        "    precio_bruto = litros * precio_etanol\n",
        "    descuento = precio_bruto * descuento_por_litro\n",
        "    total = precio_bruto - descuento\n",
        "\n",
        "    print(f\"\\nCombustible: Etanol\")\n",
        "    print(f\"Precio sin descuento: ${precio_bruto:.2f}\")\n",
        "    print(f\"Descuento aplicado: ${descuento:.2f}\")\n",
        "    print(f\"Total a pagar: ${total:.2f}\")\n",
        "\n",
        "elif combustible == \"D\":\n",
        "    if litros <= 15:\n",
        "        descuento_por_litro = 0.03  # 3%\n",
        "    else:\n",
        "        descuento_por_litro = 0.05  # 5%\n",
        "\n",
        "    precio_bruto = litros * precio_diesel\n",
        "    descuento = precio_bruto * descuento_por_litro\n",
        "    total = precio_bruto - descuento\n",
        "\n",
        "    print(f\"\\nCombustible: Diésel\")\n",
        "    print(f\"Precio sin descuento: ${precio_bruto:.2f}\")\n",
        "    print(f\"Descuento aplicado: ${descuento:.2f}\")\n",
        "    print(f\"Total a pagar: ${total:.2f}\")\n",
        "\n",
        "else:\n",
        "    print(\"Tipo de combustible no válido. Por favor, ingrese 'E' o 'D'.\")\n",
        "\n",
        "\n",
        "\n"
      ],
      "metadata": {
        "id": "WVMPKhe3_wG1",
        "colab": {
          "base_uri": "https://localhost:8080/"
        },
        "outputId": "f989529c-32e9-486b-8931-ae1184e108d6"
      },
      "execution_count": null,
      "outputs": [
        {
          "output_type": "stream",
          "name": "stdout",
          "text": [
            "¿Cuántos litros desea cargar?: 15\n",
            "¿Qué combustible desea? (E para Etanol / D para Diésel): e\n",
            "\n",
            "Combustible: Etanol\n",
            "Precio sin descuento: $25.50\n",
            "Descuento aplicado: $0.51\n",
            "Total a pagar: $24.99\n"
          ]
        }
      ]
    },
    {
      "cell_type": "markdown",
      "source": [
        "13 - En una empresa de venta de bienes raíces, debes crear un código que analice los datos de ventas anuales para ayudar a la dirección en la toma de decisiones. El código debe recopilar los datos de cantidad de ventas durante los años 2022 y 2023 y calcular la variación porcentual. A partir del valor de la variación, se deben proporcionar las siguientes sugerencias:\n",
        "\n",
        "  - Para una variación superior al 20%: bonificación para el equipo de ventas.\n",
        "  - Para una variación entre el 2% y el 20%: pequeña bonificación para el equipo de ventas.\n",
        "  - Para una variación entre el 2% y el -10%: planificación de políticas de incentivo a las ventas.\n",
        "  - Para bonificaciones inferiores al -10%: recorte de gastos."
      ],
      "metadata": {
        "id": "1WecEoJY_wzP"
      }
    },
    {
      "cell_type": "code",
      "source": [
        "ingresos_2022 = float(input(\"Ingresa la cantidad de ventas 2022: \"))\n",
        "ingresos_2023 = float(input(\"Ingresa la cantidad de ventas 2023: \"))\n",
        "\n",
        "variacion_porcentual = ((ingresos_2023 - ingresos_2022) / ingresos_2022) * 100\n",
        "\n",
        "print(f\"Variación porcentual: {variacion_porcentual:.2f}%\")\n",
        "\n",
        "if variacion_porcentual > 20:\n",
        "    print(\"Bonificación para el equipo de ventas\")\n",
        "elif 2 < variacion_porcentual <= 20:\n",
        "    print(\"Pequeña bonificación para el equipo de ventas\")\n",
        "elif -10 <= variacion_porcentual <= 2:\n",
        "    print(\"Planificación de políticas de incentivo a las ventas\")\n",
        "elif variacion_porcentual < -10:\n",
        "    print(\"Recorte de gastos\")\n"
      ],
      "metadata": {
        "id": "xME9OSf6__Rf",
        "colab": {
          "base_uri": "https://localhost:8080/"
        },
        "outputId": "f6f4e416-1f5b-4fdc-abe9-432e73faeb18"
      },
      "execution_count": null,
      "outputs": [
        {
          "output_type": "stream",
          "name": "stdout",
          "text": [
            "Ingresa la cantidad de ventas 2022: 100\n",
            "Ingresa la cantidad de ventas 2023: 110\n",
            "Variación porcentual: 10.00%\n",
            "Pequeña bonificación para el equipo de ventas.\n"
          ]
        }
      ]
    },
    {
      "cell_type": "markdown",
      "source": [
        "# **M04: Estructura de repeticion.** *Desafios:*"
      ],
      "metadata": {
        "id": "yRCqh0mkVWin"
      }
    },
    {
      "cell_type": "markdown",
      "source": [
        "1 - Escribe un programa que solicite dos números enteros e imprima todos los números enteros entre ellos."
      ],
      "metadata": {
        "id": "l1yOHmDzVsSR"
      }
    },
    {
      "cell_type": "code",
      "source": [
        "n_entero1 = int(input(\"Escribe un número entero entre 1 y 15: \"))\n",
        "n_entero2 = int(input(\"Escribe otro número entero entre 1 y 15: \"))\n",
        "\n",
        "menor = min(n_entero1, n_entero2)\n",
        "mayor = max(n_entero1, n_entero2)\n",
        "\n",
        "print(\"Números enteros entre ellos:\")\n",
        "for i in range(menor + 1, mayor):\n",
        "    print(i)\n",
        "\n"
      ],
      "metadata": {
        "colab": {
          "base_uri": "https://localhost:8080/"
        },
        "id": "NdhY7W5sVrTd",
        "outputId": "05458a99-7492-4dc0-e6b5-e5b57deb38d7"
      },
      "execution_count": null,
      "outputs": [
        {
          "output_type": "stream",
          "name": "stdout",
          "text": [
            "Escribe un número entero entre 1 y 15: 4\n",
            "Escribe otro número entero entre 1 y 15: 9\n",
            "Números enteros entre ellos:\n",
            "5\n",
            "6\n",
            "7\n",
            "8\n"
          ]
        }
      ]
    },
    {
      "cell_type": "markdown",
      "source": [
        "2 - Escribe un programa para calcular cuántos días tomará que la colonia de una bacteria A supere o iguale a la colonia de una bacteria B, basado en tasas de crecimiento del 3% y 1.5%, respectivamente. Supón que la colonia A comienza con 4 elementos y B con 10."
      ],
      "metadata": {
        "id": "-UHIJfn0VyKM"
      }
    },
    {
      "cell_type": "code",
      "source": [
        "a = 4\n",
        "b = 10\n",
        "dias = 0\n",
        "\n",
        "while a < b:\n",
        "    a = a * 1.03\n",
        "    b = b * 1.015\n",
        "    dias = dias + 1\n",
        "\n",
        "print(f\"Pasaron {dias} días hasta que A igualó o superó a B\")\n",
        "\n"
      ],
      "metadata": {
        "id": "E1Om_CMuV0x8",
        "outputId": "223fa1fd-624f-44d4-f08a-863a9e3c3539",
        "colab": {
          "base_uri": "https://localhost:8080/"
        }
      },
      "execution_count": 2,
      "outputs": [
        {
          "output_type": "stream",
          "name": "stdout",
          "text": [
            "Pasaron 63 días hasta que A igualó o superó a B\n"
          ]
        }
      ]
    },
    {
      "cell_type": "markdown",
      "source": [
        "3 - Para procesar una cantidad de 15 datos de evaluaciones de usuarios de un servicio de la empresa, necesitamos verificar si las calificaciones son válidas. Por lo tanto, escribe un programa que recibirá calificaciones del 0 al 5 y verificará si son valores válidos. Si se ingresa una calificación superior a 5 o inferior a 0, se repetirá hasta que el usuario ingrese un valor válido."
      ],
      "metadata": {
        "id": "_YOH8EA1V1PI"
      }
    },
    {
      "cell_type": "code",
      "source": [
        "\n",
        "contador = 1\n",
        "\n",
        "while contador <= 15:\n",
        "    calificacion = float(input(f\"Ingrese la calificación del usuario {contador} (de 0 a 5): \"))\n",
        "\n",
        "    while calificacion < 0 or calificacion > 5:\n",
        "        print(\"Calificación inválida. Debe ser un número entre 0 y 5.\")\n",
        "        calificacion = float(input(f\"Intente de nuevo para el usuario {contador}: \"))\n",
        "\n",
        "    print(\"✔️ Calificación aceptada.\\n\")\n",
        "    contador += 1\n",
        "\n",
        "print(\"Las 15 calificaciones válidas fueron ingresadas correctamente!\")\n"
      ],
      "metadata": {
        "id": "5K5fg_LLV4uB",
        "outputId": "6026a14b-1e18-4fcf-9c3b-0b58945805a4",
        "colab": {
          "base_uri": "https://localhost:8080/",
          "height": 714
        }
      },
      "execution_count": 3,
      "outputs": [
        {
          "name": "stdout",
          "output_type": "stream",
          "text": [
            "Ingrese la calificación del usuario 1 (de 0 a 5): 3\n",
            "✔️ Calificación aceptada.\n",
            "\n",
            "Ingrese la calificación del usuario 2 (de 0 a 5): 2\n",
            "✔️ Calificación aceptada.\n",
            "\n",
            "Ingrese la calificación del usuario 3 (de 0 a 5): 4\n",
            "✔️ Calificación aceptada.\n",
            "\n",
            "Ingrese la calificación del usuario 4 (de 0 a 5): 5\n",
            "✔️ Calificación aceptada.\n",
            "\n",
            "Ingrese la calificación del usuario 5 (de 0 a 5): 2\n",
            "✔️ Calificación aceptada.\n",
            "\n",
            "Ingrese la calificación del usuario 6 (de 0 a 5): 2\n",
            "✔️ Calificación aceptada.\n",
            "\n",
            "Ingrese la calificación del usuario 7 (de 0 a 5): 4\n",
            "✔️ Calificación aceptada.\n",
            "\n",
            "Ingrese la calificación del usuario 8 (de 0 a 5): 5\n",
            "✔️ Calificación aceptada.\n",
            "\n",
            "Ingrese la calificación del usuario 9 (de 0 a 5): 7\n",
            "Calificación inválida. Debe ser un número entre 0 y 5.\n",
            "Intente de nuevo para el usuario 9: 8\n",
            "Calificación inválida. Debe ser un número entre 0 y 5.\n",
            "Intente de nuevo para el usuario 9: \n"
          ]
        },
        {
          "output_type": "error",
          "ename": "ValueError",
          "evalue": "could not convert string to float: ''",
          "traceback": [
            "\u001b[0;31m---------------------------------------------------------------------------\u001b[0m",
            "\u001b[0;31mValueError\u001b[0m                                Traceback (most recent call last)",
            "\u001b[0;32m<ipython-input-3-d644400da485>\u001b[0m in \u001b[0;36m<cell line: 0>\u001b[0;34m()\u001b[0m\n\u001b[1;32m      6\u001b[0m     \u001b[0;32mwhile\u001b[0m \u001b[0mcalificacion\u001b[0m \u001b[0;34m<\u001b[0m \u001b[0;36m0\u001b[0m \u001b[0;32mor\u001b[0m \u001b[0mcalificacion\u001b[0m \u001b[0;34m>\u001b[0m \u001b[0;36m5\u001b[0m\u001b[0;34m:\u001b[0m\u001b[0;34m\u001b[0m\u001b[0;34m\u001b[0m\u001b[0m\n\u001b[1;32m      7\u001b[0m         \u001b[0mprint\u001b[0m\u001b[0;34m(\u001b[0m\u001b[0;34m\"Calificación inválida. Debe ser un número entre 0 y 5.\"\u001b[0m\u001b[0;34m)\u001b[0m\u001b[0;34m\u001b[0m\u001b[0;34m\u001b[0m\u001b[0m\n\u001b[0;32m----> 8\u001b[0;31m         \u001b[0mcalificacion\u001b[0m \u001b[0;34m=\u001b[0m \u001b[0mfloat\u001b[0m\u001b[0;34m(\u001b[0m\u001b[0minput\u001b[0m\u001b[0;34m(\u001b[0m\u001b[0;34mf\"Intente de nuevo para el usuario {contador}: \"\u001b[0m\u001b[0;34m)\u001b[0m\u001b[0;34m)\u001b[0m\u001b[0;34m\u001b[0m\u001b[0;34m\u001b[0m\u001b[0m\n\u001b[0m\u001b[1;32m      9\u001b[0m \u001b[0;34m\u001b[0m\u001b[0m\n\u001b[1;32m     10\u001b[0m     \u001b[0mprint\u001b[0m\u001b[0;34m(\u001b[0m\u001b[0;34m\"✔️ Calificación aceptada.\\n\"\u001b[0m\u001b[0;34m)\u001b[0m\u001b[0;34m\u001b[0m\u001b[0;34m\u001b[0m\u001b[0m\n",
            "\u001b[0;31mValueError\u001b[0m: could not convert string to float: ''"
          ]
        }
      ]
    },
    {
      "cell_type": "markdown",
      "source": [
        "4 - Desarrolla un programa que lea un conjunto indefinido de temperaturas en grados Celsius y calcule su promedio. La lectura debe detenerse al ingresar el valor -273°C."
      ],
      "metadata": {
        "id": "6CTTalSfV5H5"
      }
    },
    {
      "cell_type": "code",
      "source": [],
      "metadata": {
        "id": "WdN7Zm7BV8TD"
      },
      "execution_count": null,
      "outputs": []
    },
    {
      "cell_type": "markdown",
      "source": [
        "5 - Escribe un programa que calcule el factorial de un número entero proporcionado por el usuario. Recuerda que el factorial de un número entero es el producto de ese número por todos sus antecesores hasta llegar al número 1. Por ejemplo, el factorial de 5 es 5 x 4 x 3 x 2 x 1 = 120."
      ],
      "metadata": {
        "id": "dLahTQoIV84U"
      }
    },
    {
      "cell_type": "code",
      "source": [],
      "metadata": {
        "id": "Jx35KG1BV_iD"
      },
      "execution_count": null,
      "outputs": []
    },
    {
      "cell_type": "markdown",
      "source": [
        "**proyectos:**"
      ],
      "metadata": {
        "id": "mGkrlv8KWAe8"
      }
    },
    {
      "cell_type": "markdown",
      "source": [
        "6 - Escribe un programa que genere la tabla de multiplicar de un número entero del 1 al 10, según la elección del usuario. Como ejemplo, para el número 2, la tabla de multiplicar debe mostrarse en el siguiente formato:"
      ],
      "metadata": {
        "id": "8gpijnqrWMHB"
      }
    },
    {
      "cell_type": "code",
      "source": [
        "Tabla de multiplicar del 2:\n",
        "2 x 1 = 2\n",
        "2 x 2 = 4\n",
        "[...]\n",
        "2 x 10 = 20"
      ],
      "metadata": {
        "id": "GKzbwUiPWPxs"
      },
      "execution_count": null,
      "outputs": []
    },
    {
      "cell_type": "markdown",
      "source": [
        "7 - Los números primos tienen diversas aplicaciones en Ciencia de Datos, como en criptografía y seguridad. Un número primo es aquel que es divisible solo por sí mismo y por 1. Por lo tanto, crea un programa que solicite un número entero y determine si es un número primo o no."
      ],
      "metadata": {
        "id": "TFVE57J0WQON"
      }
    },
    {
      "cell_type": "code",
      "source": [],
      "metadata": {
        "id": "KckwqAjDWXFG"
      },
      "execution_count": null,
      "outputs": []
    },
    {
      "cell_type": "markdown",
      "source": [
        "8 - Vamos a comprender la distribución de edades de los pensionistas de una empresa de seguros. Escribe un programa que lea las edades de una cantidad no informada de clientes y muestre la distribución en los intervalos [0-25], [26-50], [51-75] y [76-100]. La entrada de datos se detendrá al ingresar un número negativo."
      ],
      "metadata": {
        "id": "EUO3PyPqWXfH"
      }
    },
    {
      "cell_type": "code",
      "source": [],
      "metadata": {
        "id": "tV9syBFOWaAG"
      },
      "execution_count": null,
      "outputs": []
    },
    {
      "cell_type": "markdown",
      "source": [
        "9 - En una elección para la gerencia de una empresa con 20 empleados, hay cuatro candidatos. Escribe un programa que calcule al ganador de la elección. La votación se realizó de la siguiente manera:\n",
        "\n",
        "Cada empleado votó por uno de los cuatro candidatos (representados por los números 1, 2, 3 y 4).\n",
        "\n",
        "También se contaron los votos nulos (representados por el número 5) y los votos en blanco (representados por el número 6).\n",
        "\n",
        "Al final de la votación, el programa debe mostrar el número total de votos para cada candidato, los votos nulos y los votos en blanco. Además, debe calcular y mostrar el porcentaje de votos nulos con respecto al total de votos y el porcentaje de votos en blanco con respecto al total de votos."
      ],
      "metadata": {
        "id": "LCZ2LNY3WacW"
      }
    },
    {
      "cell_type": "code",
      "source": [],
      "metadata": {
        "id": "rvn-OPY-Wc_3"
      },
      "execution_count": null,
      "outputs": []
    }
  ]
}